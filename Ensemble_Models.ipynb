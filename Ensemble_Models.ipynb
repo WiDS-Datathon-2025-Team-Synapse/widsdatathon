{
  "nbformat": 4,
  "nbformat_minor": 0,
  "metadata": {
    "colab": {
      "provenance": []
    },
    "kernelspec": {
      "name": "python3",
      "display_name": "Python 3"
    },
    "language_info": {
      "name": "python"
    }
  },
  "cells": [
    {
      "cell_type": "markdown",
      "source": [
        "# ENSEMBLE MODEL TABLE OF CONTENT\n",
        "- **Uploader**\n",
        "- **Data Prep**\n",
        "- **Categorical Data Prep and Modeling**\n",
        "  - ADHD Model - Oversampled GBDT\n",
        "  - Sex_F Model - Hybrid GBDT\n",
        "- **Quantitative Data Prep and Modeling**\n",
        "- **FCM Data Prep and Modeling**\n",
        "- **Emsemble Modeling - Stacking Method**\n",
        "- **Kaggle Submission Maker**\n",
        "\n",
        "*Maya: I am up to getting best models for Cat rn, if anyone wants to find and input the best models along with their dataprep (dataset modifications) that would be great!*"
      ],
      "metadata": {
        "id": "hbRDIfn-rq6_"
      }
    },
    {
      "cell_type": "code",
      "source": [
        "#@title uploader\n",
        "file_id = \"1VpSCc_ms2dj59bMAAOqCu0OI0jjb-8Hq\" #@param {type:\"string\"}\n",
        "!pip install -U -q PyDrive\n",
        "\n",
        "from pydrive.auth import GoogleAuth\n",
        "from pydrive.drive import GoogleDrive\n",
        "from google.colab import auth\n",
        "from oauth2client.client import GoogleCredentials\n",
        "\n",
        "# 1. Authenticate and create the PyDrive client.\n",
        "auth.authenticate_user()\n",
        "gauth = GoogleAuth()\n",
        "gauth.credentials = GoogleCredentials.get_application_default()\n",
        "drive = GoogleDrive(gauth)\n",
        "\n",
        "# PyDrive reference:\n",
        "# https://googledrive.github.io/PyDrive/docs/build/html/index.html\n",
        "\n",
        "\n",
        "from google.colab import auth\n",
        "auth.authenticate_user()\n",
        "\n",
        "from googleapiclient.discovery import build\n",
        "drive_service = build('drive', 'v3')\n",
        "\n",
        "# Replace the assignment below with your file ID\n",
        "# to download a different file.\n",
        "#\n",
        "# A file ID looks like: 1gLBqEWEBQDYbKCDigHnUXNTkzl-OslSO\n",
        "\n",
        "import io\n",
        "from googleapiclient.http import MediaIoBaseDownload\n",
        "\n",
        "request = drive_service.files().get_media(fileId=file_id)\n",
        "downloaded = io.BytesIO()\n",
        "downloader = MediaIoBaseDownload(downloaded, request)\n",
        "done = False\n",
        "while done is False:\n",
        "  # _ is a placeholder for a progress object that we ignore.\n",
        "  # (Our file is small, so we skip reporting progress.)\n",
        "  _, done = downloader.next_chunk()\n",
        "\n",
        "fileId = drive.CreateFile({'id': file_id }) #DRIVE_FILE_ID is file id example: 1iytA1n2z4go3uVCwE_vIKouTKyIDjEq\n",
        "print(fileId['title'])\n",
        "fileId.GetContentFile(fileId['title'])  # Save Drive file as a local file\n",
        "\n",
        "!unzip {fileId['title']}"
      ],
      "metadata": {
        "colab": {
          "base_uri": "https://localhost:8080/"
        },
        "cellView": "form",
        "id": "JRkLQEJhdqV5",
        "outputId": "e65afa47-b552-4653-a304-35740d353737"
      },
      "execution_count": 1,
      "outputs": [
        {
          "output_type": "stream",
          "name": "stderr",
          "text": [
            "WARNING:root:pydrive is deprecated and no longer maintained. We recommend that you migrate your projects to pydrive2, the maintained fork of pydrive\n"
          ]
        },
        {
          "output_type": "stream",
          "name": "stdout",
          "text": [
            "widsdatathon2025.zip\n",
            "Archive:  widsdatathon2025.zip\n",
            "  inflating: Data Dictionary.xlsx    \n",
            "  inflating: SAMPLE_SUBMISSION.xlsx  \n",
            "  inflating: TEST/TEST_CATEGORICAL.xlsx  \n",
            "  inflating: TEST/TEST_FUNCTIONAL_CONNECTOME_MATRICES.csv  \n",
            "  inflating: TEST/TEST_QUANTITATIVE_METADATA.xlsx  \n",
            "  inflating: TRAIN/TRAINING_SOLUTIONS.xlsx  \n",
            "  inflating: TRAIN/TRAIN_CATEGORICAL_METADATA.xlsx  \n",
            "  inflating: TRAIN/TRAIN_FUNCTIONAL_CONNECTOME_MATRICES.csv  \n",
            "  inflating: TRAIN/TRAIN_QUANTITATIVE_METADATA.xlsx  \n"
          ]
        }
      ]
    },
    {
      "cell_type": "markdown",
      "source": [
        "## Data Prep"
      ],
      "metadata": {
        "id": "5h3kt68fheMu"
      }
    },
    {
      "cell_type": "code",
      "source": [
        "import numpy as np # linear algebra\n",
        "import pandas as pd # data processing, CSV file I/O (e.g. pd.read_csv)\n",
        "import seaborn as sns\n",
        "import matplotlib.pyplot as plt\n",
        "\n",
        "#!pip install scikit-learn\n",
        "from sklearn.tree import DecisionTreeClassifier\n",
        "from sklearn.metrics import accuracy_score\n",
        "from sklearn.ensemble import RandomForestClassifier, GradientBoostingClassifier\n",
        "from sklearn.model_selection import GridSearchCV\n",
        "from sklearn.preprocessing import StandardScaler\n",
        "\n",
        "from imblearn.over_sampling import SMOTE\n",
        "from sklearn.model_selection import train_test_split"
      ],
      "metadata": {
        "colab": {
          "base_uri": "https://localhost:8080/"
        },
        "id": "sPaTXUNOdy8R",
        "outputId": "ff9405cd-d78b-4f8e-be2a-8c3863279471"
      },
      "execution_count": 15,
      "outputs": [
        {
          "output_type": "stream",
          "name": "stdout",
          "text": [
            "Requirement already satisfied: scikit-learn in /usr/local/lib/python3.11/dist-packages (1.6.1)\n",
            "Requirement already satisfied: numpy>=1.19.5 in /usr/local/lib/python3.11/dist-packages (from scikit-learn) (1.26.4)\n",
            "Requirement already satisfied: scipy>=1.6.0 in /usr/local/lib/python3.11/dist-packages (from scikit-learn) (1.13.1)\n",
            "Requirement already satisfied: joblib>=1.2.0 in /usr/local/lib/python3.11/dist-packages (from scikit-learn) (1.4.2)\n",
            "Requirement already satisfied: threadpoolctl>=3.1.0 in /usr/local/lib/python3.11/dist-packages (from scikit-learn) (3.5.0)\n"
          ]
        }
      ]
    },
    {
      "cell_type": "code",
      "source": [
        "#all datasets\n",
        "train_quantitative = pd.read_excel('TRAIN/TRAIN_QUANTITATIVE_METADATA.xlsx')\n",
        "train_answers = pd.read_excel('TRAIN/TRAINING_SOLUTIONS.xlsx')\n",
        "train_categorical = pd.read_excel(\"TRAIN/TRAIN_CATEGORICAL_METADATA.xlsx\")\n",
        "train_solutions = pd.read_excel(\"TRAIN/TRAINING_SOLUTIONS.xlsx\")\n",
        "fcm = pd.read_csv(\"TRAIN/TRAIN_FUNCTIONAL_CONNECTOME_MATRICES.csv\")\n",
        "fcm_solutions = pd.read_excel(\"TRAIN/TRAINING_SOLUTIONS.xlsx\")\n",
        "graph_fcm = fcm.merge(fcm_solutions, on=\"participant_id\")"
      ],
      "metadata": {
        "id": "RQ2prZtad4sN"
      },
      "execution_count": 9,
      "outputs": []
    },
    {
      "cell_type": "markdown",
      "source": [
        "## Categorical Data Prep + Modeling\n",
        "### ADHD - Oversampling gradient boosted trees (gave worse accuracy?)\n"
      ],
      "metadata": {
        "id": "lpoJBLMmhhOq"
      }
    },
    {
      "cell_type": "code",
      "source": [
        "#drop id\n",
        "for feature in train_categorical.drop(columns = ['participant_id']).columns:\n",
        "  print(train_categorical[feature].value_counts())\n",
        "  print(\"\\n\")"
      ],
      "metadata": {
        "colab": {
          "base_uri": "https://localhost:8080/"
        },
        "collapsed": true,
        "id": "C9dAlriQezux",
        "outputId": "faa4d33d-32e7-4509-9873-dd2df38b85af"
      },
      "execution_count": 58,
      "outputs": [
        {
          "output_type": "stream",
          "name": "stdout",
          "text": [
            "Basic_Demos_Enroll_Year\n",
            "2018    415\n",
            "2019    312\n",
            "2017    254\n",
            "2016    191\n",
            "2015     36\n",
            "2020      5\n",
            "Name: count, dtype: int64\n",
            "\n",
            "\n",
            "Basic_Demos_Study_Site\n",
            "1    652\n",
            "3    430\n",
            "4    120\n",
            "2     11\n",
            "Name: count, dtype: int64\n",
            "\n",
            "\n",
            "PreInt_Demos_Fam_Child_Ethnicity\n",
            "0.0    809\n",
            "1.0    296\n",
            "2.0     77\n",
            "3.0     20\n",
            "Name: count, dtype: int64\n",
            "\n",
            "\n",
            "PreInt_Demos_Fam_Child_Race\n",
            "0     627\n",
            "8     195\n",
            "1     181\n",
            "2     128\n",
            "3      30\n",
            "9      23\n",
            "10     11\n",
            "4      10\n",
            "11      6\n",
            "7       2\n",
            "Name: count, dtype: int64\n",
            "\n",
            "\n",
            "MRI_Track_Scan_Location\n",
            "2    532\n",
            "3    463\n",
            "1    179\n",
            "4     36\n",
            "0      3\n",
            "Name: count, dtype: int64\n",
            "\n",
            "\n",
            "Barratt_Barratt_P1_Edu\n",
            "21    470\n",
            "18    421\n",
            "15    162\n",
            "12     97\n",
            "9      28\n",
            "0      15\n",
            "6      15\n",
            "3       5\n",
            "Name: count, dtype: int64\n",
            "\n",
            "\n",
            "Barratt_Barratt_P1_Occ\n",
            "0     317\n",
            "35    219\n",
            "45    187\n",
            "40    154\n",
            "30    154\n",
            "25     79\n",
            "15     35\n",
            "20     31\n",
            "5      31\n",
            "10      6\n",
            "Name: count, dtype: int64\n",
            "\n",
            "\n",
            "Barratt_Barratt_P2_Edu\n",
            "21    323\n",
            "18    301\n",
            "0     198\n",
            "15    166\n",
            "12    162\n",
            "9      44\n",
            "6      14\n",
            "3       5\n",
            "Name: count, dtype: int64\n",
            "\n",
            "\n",
            "Barratt_Barratt_P2_Occ\n",
            "0     287\n",
            "45    239\n",
            "35    195\n",
            "30    149\n",
            "40    116\n",
            "15     86\n",
            "20     41\n",
            "5      38\n",
            "10     37\n",
            "25     25\n",
            "Name: count, dtype: int64\n",
            "\n",
            "\n"
          ]
        }
      ]
    },
    {
      "cell_type": "code",
      "source": [
        "df = pd.merge(train_categorical, train_solutions, on='participant_id')\n",
        "\n",
        "participant_ids = df['participant_id']"
      ],
      "metadata": {
        "id": "F5MEr1HKnfnr"
      },
      "execution_count": 60,
      "outputs": []
    },
    {
      "cell_type": "code",
      "source": [
        "#fill missing NA values\n",
        "df.fillna({'PreInt_Demos_Fam_Child_Ethnicity':df['PreInt_Demos_Fam_Child_Ethnicity'].mean()}, inplace = True)"
      ],
      "metadata": {
        "id": "G84Qf-GOnvVX"
      },
      "execution_count": 61,
      "outputs": []
    },
    {
      "cell_type": "code",
      "source": [
        "X = df.drop(columns=['Sex_F', 'participant_id'])\n",
        "y = df['Sex_F']"
      ],
      "metadata": {
        "id": "bjUusi_JnzOo"
      },
      "execution_count": 62,
      "outputs": []
    },
    {
      "cell_type": "code",
      "source": [
        "smote = SMOTE(sampling_strategy=\"auto\", random_state=42)\n",
        "X_resampled, y_resampled = smote.fit_resample(X, y)"
      ],
      "metadata": {
        "id": "K5BxbSn3oHon"
      },
      "execution_count": 63,
      "outputs": []
    },
    {
      "cell_type": "code",
      "source": [
        "cat_balanced = pd.DataFrame(X_resampled, columns=X.columns)\n",
        "cat_balanced['Sex_F'] = y_resampled"
      ],
      "metadata": {
        "id": "MSnILGBgoObG"
      },
      "execution_count": 64,
      "outputs": []
    },
    {
      "cell_type": "code",
      "source": [
        "cat_balanced.to_csv('cat_balanced_over.csv', index=False)"
      ],
      "metadata": {
        "id": "ehufygYyotDS"
      },
      "execution_count": 65,
      "outputs": []
    },
    {
      "cell_type": "markdown",
      "source": [
        "Running grid search got:\n",
        "\n",
        "{'learning_rate': 0.1, 'max_depth': 3, 'min_samples_leaf': 2, 'min_samples_split': 2, 'n_estimators': 500}\n",
        "Validation accuracy: 0.8713725490196078"
      ],
      "metadata": {
        "id": "znQZ1QJNs-Nr"
      }
    },
    {
      "cell_type": "code",
      "source": [
        "from sklearn.ensemble import GradientBoostingClassifier\n",
        "from sklearn.metrics import accuracy_score, f1_score\n",
        "from sklearn.model_selection import train_test_split\n",
        "\n",
        "# Example: assuming X and y are already defined\n",
        "X_train, X_val, y_train, y_val = train_test_split(X, y, test_size=0.2, random_state=42)\n",
        "\n",
        "# Initialize GBDT model with best parameters\n",
        "gbdt_best = GradientBoostingClassifier(\n",
        "    learning_rate=0.1,\n",
        "    max_depth=3,\n",
        "    min_samples_leaf=2,\n",
        "    min_samples_split=2,\n",
        "    n_estimators=500,\n",
        "    random_state=42\n",
        ")\n",
        "\n",
        "# Train the model\n",
        "gbdt_best.fit(X_train, y_train)\n",
        "\n",
        "# Evaluate on validation set\n",
        "y_pred = gbdt_best.predict(X_val)\n",
        "\n",
        "# Accuracy\n",
        "accuracy = accuracy_score(y_val, y_pred)\n",
        "print(f\"Validation Accuracy: {accuracy:.4f}\")\n",
        "\n",
        "# Weighted F1 Score\n",
        "f1 = f1_score(y_val, y_pred, average='weighted')\n",
        "print(f\"Weighted F1 Score: {f1:.4f}\")\n"
      ],
      "metadata": {
        "colab": {
          "base_uri": "https://localhost:8080/"
        },
        "id": "02gNAJYro1v-",
        "outputId": "37152eab-dfeb-476a-a059-c8202c02e77c"
      },
      "execution_count": 66,
      "outputs": [
        {
          "output_type": "stream",
          "name": "stdout",
          "text": [
            "Validation Accuracy: 0.6831\n",
            "Weighted F1 Score: 0.6782\n"
          ]
        }
      ]
    },
    {
      "cell_type": "markdown",
      "source": [
        "### Sex_f - hybrid gradient boosting trees"
      ],
      "metadata": {
        "id": "yKUJFZpen-s4"
      }
    },
    {
      "cell_type": "code",
      "source": [
        "from imblearn.combine import SMOTETomek"
      ],
      "metadata": {
        "id": "uMGJ7EzcqwPr"
      },
      "execution_count": 50,
      "outputs": []
    },
    {
      "cell_type": "code",
      "source": [
        "df = pd.merge(train_categorical, train_solutions, on='participant_id')\n",
        "\n",
        "participant_ids = df['participant_id']"
      ],
      "metadata": {
        "id": "CG4DjuWsq1jD"
      },
      "execution_count": 51,
      "outputs": []
    },
    {
      "cell_type": "code",
      "source": [
        "#fill missing NA values\n",
        "df.fillna({'PreInt_Demos_Fam_Child_Ethnicity':df['PreInt_Demos_Fam_Child_Ethnicity'].mean()}, inplace = True)"
      ],
      "metadata": {
        "id": "h6O2vLa9q6Dh"
      },
      "execution_count": 52,
      "outputs": []
    },
    {
      "cell_type": "code",
      "source": [
        "X = df.drop(columns=['Sex_F', 'participant_id'])\n",
        "y = df['Sex_F']"
      ],
      "metadata": {
        "id": "DGKUnJALHopt"
      },
      "execution_count": 53,
      "outputs": []
    },
    {
      "cell_type": "code",
      "source": [
        "smt = SMOTETomek(sampling_strategy=\"auto\", random_state=42)\n",
        "X_resampled, y_resampled = smt.fit_resample(X, y)"
      ],
      "metadata": {
        "id": "pnaVGDNgrCxF"
      },
      "execution_count": 54,
      "outputs": []
    },
    {
      "cell_type": "code",
      "source": [
        "cat_balanced = pd.DataFrame(X_resampled, columns=X.columns)\n",
        "cat_balanced['Sex_F'] = y_resampled"
      ],
      "metadata": {
        "id": "V3tZbR4brF7a"
      },
      "execution_count": 55,
      "outputs": []
    },
    {
      "cell_type": "code",
      "source": [
        "cat_balanced.to_csv('cat_balanced_hybrid.csv', index=False)"
      ],
      "metadata": {
        "id": "_yllJtwUrJSU"
      },
      "execution_count": 56,
      "outputs": []
    },
    {
      "cell_type": "markdown",
      "source": [
        "Best parameters: {'learning_rate': 0.1, 'max_depth': 5, 'min_samples_leaf': 1, 'min_samples_split': 2, 'n_estimators': 200}\n",
        "Validation accuracy: 0.9338983050847458"
      ],
      "metadata": {
        "id": "Bw-iwZguuf7c"
      }
    },
    {
      "cell_type": "code",
      "source": [
        "from sklearn.ensemble import GradientBoostingClassifier\n",
        "from sklearn.model_selection import train_test_split\n",
        "from sklearn.preprocessing import StandardScaler\n",
        "from sklearn.metrics import accuracy_score, f1_score\n",
        "\n",
        "# Define features and labels\n",
        "X = cat_balanced.drop(['ADHD_Outcome', 'Sex_F'], axis=1)\n",
        "y = cat_balanced['Sex_F']\n",
        "\n",
        "# Split data into training and testing sets\n",
        "X_train, X_test, y_train, y_test = train_test_split(X, y, test_size=0.2, random_state=42)\n",
        "\n",
        "# Scale numerical features\n",
        "scaler = StandardScaler()\n",
        "X_train = scaler.fit_transform(X_train)\n",
        "X_test = scaler.transform(X_test)\n",
        "\n",
        "# Initialize Gradient Boosting Classifier with best parameters\n",
        "gbdt_final = GradientBoostingClassifier(\n",
        "    learning_rate=0.1,\n",
        "    max_depth=5,\n",
        "    min_samples_leaf=1,\n",
        "    min_samples_split=2,\n",
        "    n_estimators=200,\n",
        "    random_state=42\n",
        ")\n",
        "\n",
        "# Train the model\n",
        "gbdt_final.fit(X_train, y_train)\n",
        "\n",
        "# Predict on test set\n",
        "y_pred = gbdt_final.predict(X_test)\n",
        "\n",
        "# Evaluate performance\n",
        "accuracy = accuracy_score(y_test, y_pred)\n",
        "f1 = f1_score(y_test, y_pred, average='weighted')\n",
        "\n",
        "# Print results\n",
        "print(f\"Test Accuracy: {accuracy:.4f}\")\n",
        "print(f\"Weighted F1 Score: {f1:.4f}\")\n"
      ],
      "metadata": {
        "colab": {
          "base_uri": "https://localhost:8080/"
        },
        "id": "fXp__1zWrUPD",
        "outputId": "3401cfbc-4603-48ad-f4c2-6dcb937626e2"
      },
      "execution_count": 57,
      "outputs": [
        {
          "output_type": "stream",
          "name": "stdout",
          "text": [
            "Test Accuracy: 0.7162\n",
            "Weighted F1 Score: 0.7162\n"
          ]
        }
      ]
    },
    {
      "cell_type": "markdown",
      "source": [
        "##Quantitative Data Prep\n"
      ],
      "metadata": {
        "id": "WfkNVzW3hlrL"
      }
    },
    {
      "cell_type": "markdown",
      "source": [
        "### ADHD - Gradient Boosted DT\n",
        "\n",
        "{'learning_rate': 0.01, 'max_depth': 3, 'min_samples_leaf': 1, 'min_samples_split': 2, 'n_estimators': 100}"
      ],
      "metadata": {
        "id": "rLKVNHpVuXLL"
      }
    },
    {
      "cell_type": "markdown",
      "source": [
        "### Sex_f - Optuna Model\n",
        "\n",
        "'n_estimators': 150, 'learning_rate': 0.08374413872051761, 'max_depth': 4\n"
      ],
      "metadata": {
        "id": "rp7fEFx5uH-9"
      }
    },
    {
      "cell_type": "code",
      "source": [],
      "metadata": {
        "id": "H8wbNT5bhn8B"
      },
      "execution_count": null,
      "outputs": []
    },
    {
      "cell_type": "markdown",
      "source": [
        "## FCM Data Prep"
      ],
      "metadata": {
        "id": "SypWyOMOhoX1"
      }
    },
    {
      "cell_type": "code",
      "source": [],
      "metadata": {
        "id": "ujPMUy04hqVS"
      },
      "execution_count": null,
      "outputs": []
    }
  ]
}