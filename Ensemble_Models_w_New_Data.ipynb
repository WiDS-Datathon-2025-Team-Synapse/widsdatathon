{
  "nbformat": 4,
  "nbformat_minor": 0,
  "metadata": {
    "colab": {
      "provenance": []
    },
    "kernelspec": {
      "name": "python3",
      "display_name": "Python 3"
    },
    "language_info": {
      "name": "python"
    }
  },
  "cells": [
    {
      "cell_type": "markdown",
      "source": [
        "# ENSEMBLE MODEL TABLE OF CONTENT\n",
        "- **Uploader**\n",
        "- **Data Prep**\n",
        "- **Categorical Data Prep and Modeling**\n",
        "  - ADHD Model - Undersampled GBDT\n",
        "  - Sex_F Model - Oversampled GBDT\n",
        "- **Quantitative Data Prep and Modeling**\n",
        "- **FCM Data Prep and Modeling**\n",
        "- **Emsemble Modeling - Stacking Method**\n",
        "- **Kaggle Submission Maker**\n",
        "\n",
        "*Maya: I am up to getting best models for Cat rn, if anyone wants to find and input the best models along with their dataprep (dataset modifications) that would be great!*\n",
        "\n",
        "*Kayla: I updated the categorical data prep and modeling bc we had an updated file with the fixed code after Preston pointed out our sampling mix up. I have also added the best models for quantitative data (even though I get different results than your separate colab for optuna ?)*"
      ],
      "metadata": {
        "id": "hbRDIfn-rq6_"
      }
    },
    {
      "cell_type": "code",
      "source": [
        "#@title uploader\n",
        "file_id = \"1VpSCc_ms2dj59bMAAOqCu0OI0jjb-8Hq\" #@param {type:\"string\"}\n",
        "!pip install -U -q PyDrive\n",
        "\n",
        "from pydrive.auth import GoogleAuth\n",
        "from pydrive.drive import GoogleDrive\n",
        "from google.colab import auth\n",
        "from oauth2client.client import GoogleCredentials\n",
        "\n",
        "# 1. Authenticate and create the PyDrive client.\n",
        "auth.authenticate_user()\n",
        "gauth = GoogleAuth()\n",
        "gauth.credentials = GoogleCredentials.get_application_default()\n",
        "drive = GoogleDrive(gauth)\n",
        "\n",
        "# PyDrive reference:\n",
        "# https://googledrive.github.io/PyDrive/docs/build/html/index.html\n",
        "\n",
        "\n",
        "from google.colab import auth\n",
        "auth.authenticate_user()\n",
        "\n",
        "from googleapiclient.discovery import build\n",
        "drive_service = build('drive', 'v3')\n",
        "\n",
        "# Replace the assignment below with your file ID\n",
        "# to download a different file.\n",
        "#\n",
        "# A file ID looks like: 1gLBqEWEBQDYbKCDigHnUXNTkzl-OslSO\n",
        "\n",
        "import io\n",
        "from googleapiclient.http import MediaIoBaseDownload\n",
        "\n",
        "request = drive_service.files().get_media(fileId=file_id)\n",
        "downloaded = io.BytesIO()\n",
        "downloader = MediaIoBaseDownload(downloaded, request)\n",
        "done = False\n",
        "while done is False:\n",
        "  # _ is a placeholder for a progress object that we ignore.\n",
        "  # (Our file is small, so we skip reporting progress.)\n",
        "  _, done = downloader.next_chunk()\n",
        "\n",
        "fileId = drive.CreateFile({'id': file_id }) #DRIVE_FILE_ID is file id example: 1iytA1n2z4go3uVCwE_vIKouTKyIDjEq\n",
        "print(fileId['title'])\n",
        "fileId.GetContentFile(fileId['title'])  # Save Drive file as a local file\n",
        "\n",
        "!unzip {fileId['title']}"
      ],
      "metadata": {
        "id": "JRkLQEJhdqV5",
        "colab": {
          "base_uri": "https://localhost:8080/"
        },
        "outputId": "2204d6f3-d950-4c32-9d08-3ba6889ae7e1"
      },
      "execution_count": null,
      "outputs": [
        {
          "output_type": "stream",
          "name": "stderr",
          "text": [
            "WARNING:root:pydrive is deprecated and no longer maintained. We recommend that you migrate your projects to pydrive2, the maintained fork of pydrive\n"
          ]
        },
        {
          "output_type": "stream",
          "name": "stdout",
          "text": [
            "widsdatathon2025.zip\n",
            "Archive:  widsdatathon2025.zip\n",
            "  inflating: Data Dictionary.xlsx    \n",
            "  inflating: SAMPLE_SUBMISSION.xlsx  \n",
            "  inflating: TEST/TEST_CATEGORICAL.xlsx  \n",
            "  inflating: TEST/TEST_FUNCTIONAL_CONNECTOME_MATRICES.csv  \n",
            "  inflating: TEST/TEST_QUANTITATIVE_METADATA.xlsx  \n",
            "  inflating: TRAIN/TRAINING_SOLUTIONS.xlsx  \n",
            "  inflating: TRAIN/TRAIN_CATEGORICAL_METADATA.xlsx  \n",
            "  inflating: TRAIN/TRAIN_FUNCTIONAL_CONNECTOME_MATRICES.csv  \n",
            "  inflating: TRAIN/TRAIN_QUANTITATIVE_METADATA.xlsx  \n"
          ]
        }
      ]
    },
    {
      "cell_type": "markdown",
      "source": [
        "## Data Prep"
      ],
      "metadata": {
        "id": "5h3kt68fheMu"
      }
    },
    {
      "cell_type": "code",
      "source": [
        "import numpy as np # linear algebra\n",
        "import pandas as pd # data processing, CSV file I/O (e.g. pd.read_csv)\n",
        "import seaborn as sns\n",
        "import matplotlib.pyplot as plt\n",
        "\n",
        "#!pip install scikit-learn\n",
        "from sklearn.tree import DecisionTreeClassifier\n",
        "from sklearn.metrics import accuracy_score\n",
        "from sklearn.ensemble import RandomForestClassifier, GradientBoostingClassifier\n",
        "from sklearn.model_selection import GridSearchCV\n",
        "from sklearn.preprocessing import StandardScaler\n",
        "\n",
        "from imblearn.over_sampling import SMOTE\n",
        "from sklearn.model_selection import train_test_split\n",
        "from imblearn.under_sampling import RandomUnderSampler"
      ],
      "metadata": {
        "id": "sPaTXUNOdy8R"
      },
      "execution_count": null,
      "outputs": []
    },
    {
      "cell_type": "code",
      "source": [
        "#all datasets\n",
        "train_quantitative = pd.read_excel('TRAIN/TRAIN_QUANTITATIVE_METADATA.xlsx')\n",
        "train_answers = pd.read_excel('TRAIN/TRAINING_SOLUTIONS.xlsx')\n",
        "train_categorical = pd.read_excel(\"TRAIN/TRAIN_CATEGORICAL_METADATA.xlsx\")\n",
        "train_solutions = pd.read_excel(\"TRAIN/TRAINING_SOLUTIONS.xlsx\")\n",
        "fcm = pd.read_csv(\"TRAIN/TRAIN_FUNCTIONAL_CONNECTOME_MATRICES.csv\")\n",
        "fcm_solutions = pd.read_excel(\"TRAIN/TRAINING_SOLUTIONS.xlsx\")\n",
        "graph_fcm = fcm.merge(fcm_solutions, on=\"participant_id\")"
      ],
      "metadata": {
        "id": "RQ2prZtad4sN"
      },
      "execution_count": null,
      "outputs": []
    },
    {
      "cell_type": "code",
      "source": [
        "#loading in datasets (I have it stored a different way)\n",
        "train_categorical = pd.read_excel(\"/content/TRAIN_CATEGORICAL_METADATA_new.xlsx\")\n",
        "train_solutions = pd.read_excel(\"/content/TRAINING_SOLUTIONS.xlsx\")\n",
        "train_quantitative = pd.read_excel(\"/content/TRAIN_QUANTITATIVE_METADATA_new.xlsx\")\n",
        "train_fcm = pd.read_csv(\"/content/TRAIN_FUNCTIONAL_CONNECTOME_MATRICES_new_36P_Pearson.csv.crdownload\")"
      ],
      "metadata": {
        "id": "KREzsGYO5DKt"
      },
      "execution_count": null,
      "outputs": []
    },
    {
      "cell_type": "markdown",
      "source": [
        "## Categorical Data Prep + Modeling\n",
        "### ADHD - Oversampling gradient boosted trees (gave worse accuracy?)\n"
      ],
      "metadata": {
        "id": "lpoJBLMmhhOq"
      }
    },
    {
      "cell_type": "code",
      "source": [
        "#drop id\n",
        "for feature in train_categorical.drop(columns = ['participant_id']).columns:\n",
        "  print(train_categorical[feature].value_counts())\n",
        "  print(\"\\n\")"
      ],
      "metadata": {
        "colab": {
          "base_uri": "https://localhost:8080/"
        },
        "collapsed": true,
        "id": "C9dAlriQezux",
        "outputId": "e342459c-e6df-4638-b418-94b7232269de"
      },
      "execution_count": null,
      "outputs": [
        {
          "output_type": "stream",
          "name": "stdout",
          "text": [
            "Basic_Demos_Enroll_Year\n",
            "2018    415\n",
            "2019    312\n",
            "2017    254\n",
            "2016    191\n",
            "2015     36\n",
            "2020      5\n",
            "Name: count, dtype: int64\n",
            "\n",
            "\n",
            "Basic_Demos_Study_Site\n",
            "1    652\n",
            "3    430\n",
            "4    120\n",
            "2     11\n",
            "Name: count, dtype: int64\n",
            "\n",
            "\n",
            "PreInt_Demos_Fam_Child_Ethnicity\n",
            "0.0    777\n",
            "1.0    296\n",
            "2.0     77\n",
            "3.0     20\n",
            "Name: count, dtype: int64\n",
            "\n",
            "\n",
            "PreInt_Demos_Fam_Child_Race\n",
            "0.0     573\n",
            "8.0     195\n",
            "1.0     181\n",
            "2.0     128\n",
            "3.0      30\n",
            "9.0      23\n",
            "10.0     11\n",
            "4.0      10\n",
            "11.0      6\n",
            "7.0       2\n",
            "Name: count, dtype: int64\n",
            "\n",
            "\n",
            "MRI_Track_Scan_Location\n",
            "2.0    532\n",
            "3.0    463\n",
            "1.0    179\n",
            "4.0     36\n",
            "Name: count, dtype: int64\n",
            "\n",
            "\n",
            "Barratt_Barratt_P1_Edu\n",
            "21.0    470\n",
            "18.0    421\n",
            "15.0    162\n",
            "12.0     97\n",
            "9.0      28\n",
            "6.0      15\n",
            "3.0       5\n",
            "Name: count, dtype: int64\n",
            "\n",
            "\n",
            "Barratt_Barratt_P1_Occ\n",
            "0.0     286\n",
            "35.0    219\n",
            "45.0    187\n",
            "30.0    154\n",
            "40.0    154\n",
            "25.0     79\n",
            "15.0     35\n",
            "5.0      31\n",
            "20.0     31\n",
            "10.0      6\n",
            "Name: count, dtype: int64\n",
            "\n",
            "\n",
            "Barratt_Barratt_P2_Edu\n",
            "21.0    323\n",
            "18.0    301\n",
            "15.0    166\n",
            "12.0    162\n",
            "9.0      44\n",
            "6.0      14\n",
            "3.0       5\n",
            "Name: count, dtype: int64\n",
            "\n",
            "\n",
            "Barratt_Barratt_P2_Occ\n",
            "45.0    239\n",
            "35.0    195\n",
            "30.0    149\n",
            "40.0    116\n",
            "15.0     86\n",
            "0.0      65\n",
            "20.0     41\n",
            "5.0      38\n",
            "10.0     37\n",
            "25.0     25\n",
            "Name: count, dtype: int64\n",
            "\n",
            "\n"
          ]
        }
      ]
    },
    {
      "cell_type": "code",
      "source": [
        "df = pd.merge(train_categorical, train_solutions, on='participant_id')\n",
        "\n",
        "participant_ids = df['participant_id']"
      ],
      "metadata": {
        "id": "F5MEr1HKnfnr"
      },
      "execution_count": null,
      "outputs": []
    },
    {
      "cell_type": "code",
      "source": [
        "#fill missing NA values\n",
        "df.fillna({'PreInt_Demos_Fam_Child_Ethnicity': 3}, inplace=True)\n",
        "df.fillna({'PreInt_Demos_Fam_Child_Race': 10}, inplace=True)\n",
        "df.dropna(subset=['MRI_Track_Scan_Location', 'Barratt_Barratt_P1_Edu', 'Barratt_Barratt_P1_Occ', 'Barratt_Barratt_P2_Edu', 'Barratt_Barratt_P2_Occ'  ], inplace=True)\n"
      ],
      "metadata": {
        "id": "G84Qf-GOnvVX"
      },
      "execution_count": null,
      "outputs": []
    },
    {
      "cell_type": "code",
      "source": [
        "nan_count = np.sum(df.isnull(), axis=0)\n",
        "nan_count"
      ],
      "metadata": {
        "colab": {
          "base_uri": "https://localhost:8080/",
          "height": 460
        },
        "id": "DyIm1ody0n6f",
        "outputId": "2289c660-1b55-4d90-ce55-34cd90f76e31"
      },
      "execution_count": null,
      "outputs": [
        {
          "output_type": "execute_result",
          "data": {
            "text/plain": [
              "participant_id                      0\n",
              "Basic_Demos_Enroll_Year             0\n",
              "Basic_Demos_Study_Site              0\n",
              "PreInt_Demos_Fam_Child_Ethnicity    0\n",
              "PreInt_Demos_Fam_Child_Race         0\n",
              "MRI_Track_Scan_Location             0\n",
              "Barratt_Barratt_P1_Edu              0\n",
              "Barratt_Barratt_P1_Occ              0\n",
              "Barratt_Barratt_P2_Edu              0\n",
              "Barratt_Barratt_P2_Occ              0\n",
              "ADHD_Outcome                        0\n",
              "Sex_F                               0\n",
              "dtype: int64"
            ],
            "text/html": [
              "<div>\n",
              "<style scoped>\n",
              "    .dataframe tbody tr th:only-of-type {\n",
              "        vertical-align: middle;\n",
              "    }\n",
              "\n",
              "    .dataframe tbody tr th {\n",
              "        vertical-align: top;\n",
              "    }\n",
              "\n",
              "    .dataframe thead th {\n",
              "        text-align: right;\n",
              "    }\n",
              "</style>\n",
              "<table border=\"1\" class=\"dataframe\">\n",
              "  <thead>\n",
              "    <tr style=\"text-align: right;\">\n",
              "      <th></th>\n",
              "      <th>0</th>\n",
              "    </tr>\n",
              "  </thead>\n",
              "  <tbody>\n",
              "    <tr>\n",
              "      <th>participant_id</th>\n",
              "      <td>0</td>\n",
              "    </tr>\n",
              "    <tr>\n",
              "      <th>Basic_Demos_Enroll_Year</th>\n",
              "      <td>0</td>\n",
              "    </tr>\n",
              "    <tr>\n",
              "      <th>Basic_Demos_Study_Site</th>\n",
              "      <td>0</td>\n",
              "    </tr>\n",
              "    <tr>\n",
              "      <th>PreInt_Demos_Fam_Child_Ethnicity</th>\n",
              "      <td>0</td>\n",
              "    </tr>\n",
              "    <tr>\n",
              "      <th>PreInt_Demos_Fam_Child_Race</th>\n",
              "      <td>0</td>\n",
              "    </tr>\n",
              "    <tr>\n",
              "      <th>MRI_Track_Scan_Location</th>\n",
              "      <td>0</td>\n",
              "    </tr>\n",
              "    <tr>\n",
              "      <th>Barratt_Barratt_P1_Edu</th>\n",
              "      <td>0</td>\n",
              "    </tr>\n",
              "    <tr>\n",
              "      <th>Barratt_Barratt_P1_Occ</th>\n",
              "      <td>0</td>\n",
              "    </tr>\n",
              "    <tr>\n",
              "      <th>Barratt_Barratt_P2_Edu</th>\n",
              "      <td>0</td>\n",
              "    </tr>\n",
              "    <tr>\n",
              "      <th>Barratt_Barratt_P2_Occ</th>\n",
              "      <td>0</td>\n",
              "    </tr>\n",
              "    <tr>\n",
              "      <th>ADHD_Outcome</th>\n",
              "      <td>0</td>\n",
              "    </tr>\n",
              "    <tr>\n",
              "      <th>Sex_F</th>\n",
              "      <td>0</td>\n",
              "    </tr>\n",
              "  </tbody>\n",
              "</table>\n",
              "</div><br><label><b>dtype:</b> int64</label>"
            ]
          },
          "metadata": {},
          "execution_count": 17
        }
      ]
    },
    {
      "cell_type": "code",
      "source": [
        "X = df.drop(columns=['Sex_F', 'participant_id'])\n",
        "y = df['Sex_F']\n",
        "\n",
        "X_train, X_test, y_train, y_test = train_test_split(X, y, test_size=0.2, random_state=42)\n",
        "\n",
        "rus = RandomUnderSampler(sampling_strategy=\"auto\", random_state=42)\n",
        "X_train_resampled, y_train_resampled = rus.fit_resample(X_train, y_train)"
      ],
      "metadata": {
        "id": "-3GP5cyM5JVV"
      },
      "execution_count": null,
      "outputs": []
    },
    {
      "cell_type": "markdown",
      "source": [
        "Running grid search got:\n",
        "\n",
        "{'learning_rate': 0.01, 'max_depth': 3, 'min_samples_leaf': 2, 'min_samples_split': 2, 'n_estimators': 200} Validation accuracy: 0.7366255144032922"
      ],
      "metadata": {
        "id": "znQZ1QJNs-Nr"
      }
    },
    {
      "cell_type": "code",
      "source": [
        "from sklearn.ensemble import GradientBoostingClassifier\n",
        "from sklearn.metrics import accuracy_score, f1_score\n",
        "from sklearn.model_selection import train_test_split\n",
        "\n",
        "X_train_ADHD = X_train_resampled.drop(columns=['ADHD_Outcome'])\n",
        "y_train_ADHD = X_train_resampled['ADHD_Outcome']\n",
        "x_test_ADHD = X_test.drop(columns=['ADHD_Outcome'])\n",
        "y_test_ADHD = X_test['ADHD_Outcome']\n",
        "\n",
        "# Initialize GBDT model with best parameters\n",
        "gbdt_cat_ADHD = GradientBoostingClassifier(\n",
        "    learning_rate=0.01,\n",
        "    max_depth=3,\n",
        "    min_samples_leaf=2,\n",
        "    min_samples_split=2,\n",
        "    n_estimators=200,\n",
        "    random_state=42\n",
        ")\n",
        "\n",
        "# Train the model\n",
        "gbdt_cat_ADHD.fit(X_train_ADHD, y_train_ADHD)\n",
        "\n",
        "# Evaluate on validation set\n",
        "y_pred = gbdt_cat_ADHD.predict(x_test_ADHD)\n",
        "\n",
        "# Accuracy\n",
        "accuracy = accuracy_score(y_test_ADHD, y_pred)\n",
        "print(f\"Validation Accuracy: {accuracy:.4f}\")\n",
        "\n",
        "# Weighted F1 Score\n",
        "f1 = f1_score(y_test_ADHD, y_pred, average='weighted')\n",
        "print(f\"Weighted F1 Score: {f1:.4f}\")"
      ],
      "metadata": {
        "colab": {
          "base_uri": "https://localhost:8080/"
        },
        "id": "02gNAJYro1v-",
        "outputId": "4da0d562-b815-40aa-fe75-2d71017a66fc"
      },
      "execution_count": null,
      "outputs": [
        {
          "output_type": "stream",
          "name": "stdout",
          "text": [
            "Validation Accuracy: 0.6856\n",
            "Weighted F1 Score: 0.6195\n"
          ]
        }
      ]
    },
    {
      "cell_type": "markdown",
      "source": [
        "### Sex_f - hybrid gradient boosting trees"
      ],
      "metadata": {
        "id": "yKUJFZpen-s4"
      }
    },
    {
      "cell_type": "code",
      "source": [
        "df = pd.merge(train_categorical, train_solutions, on='participant_id')\n",
        "\n",
        "participant_ids = df['participant_id']"
      ],
      "metadata": {
        "id": "CG4DjuWsq1jD"
      },
      "execution_count": null,
      "outputs": []
    },
    {
      "cell_type": "code",
      "source": [
        "#fill missing NA values\n",
        "df.fillna({'PreInt_Demos_Fam_Child_Ethnicity': 3}, inplace=True)\n",
        "df.fillna({'PreInt_Demos_Fam_Child_Race': 10}, inplace=True)\n",
        "df.dropna(subset=['MRI_Track_Scan_Location', 'Barratt_Barratt_P1_Edu', 'Barratt_Barratt_P1_Occ', 'Barratt_Barratt_P2_Edu', 'Barratt_Barratt_P2_Occ'  ], inplace=True)"
      ],
      "metadata": {
        "id": "h6O2vLa9q6Dh"
      },
      "execution_count": null,
      "outputs": []
    },
    {
      "cell_type": "code",
      "source": [
        "X = df.drop(columns=['Sex_F', 'ADHD_Outcome', 'participant_id']) #drop ADHD\n",
        "y = df['Sex_F']\n",
        "\n",
        "X_train, X_test, y_train, y_test = train_test_split(X, y, test_size=0.2, random_state=42)\n",
        "\n",
        "smote = SMOTE(sampling_strategy=\"auto\", random_state=42)\n",
        "X_train_resampled, y_train_resampled = smote.fit_resample(X_train, y_train)"
      ],
      "metadata": {
        "id": "8mgzgdks50hN"
      },
      "execution_count": null,
      "outputs": []
    },
    {
      "cell_type": "markdown",
      "source": [
        "Best parameters: {'learning_rate': 0.001, 'max_depth': 7, 'min_samples_leaf': 1, 'min_samples_split': 4, 'n_estimators': 500} Validation accuracy: 0.63"
      ],
      "metadata": {
        "id": "Bw-iwZguuf7c"
      }
    },
    {
      "cell_type": "code",
      "source": [
        "from sklearn.ensemble import GradientBoostingClassifier\n",
        "from sklearn.model_selection import train_test_split\n",
        "from sklearn.preprocessing import StandardScaler\n",
        "from sklearn.metrics import accuracy_score, f1_score\n",
        "\n",
        "# Initialize Gradient Boosting Classifier with best parameters\n",
        "gbdt_cat_female = GradientBoostingClassifier(\n",
        "    learning_rate=0.001,\n",
        "    max_depth=7,\n",
        "    min_samples_leaf=1,\n",
        "    min_samples_split=4,\n",
        "    n_estimators=500,\n",
        "    random_state=42\n",
        ")\n",
        "\n",
        "# Train the model\n",
        "gbdt_cat_female.fit(X_train_resampled, y_train_resampled)\n",
        "\n",
        "# Predict on test set\n",
        "y_pred = gbdt_cat_female.predict(X_test)\n",
        "\n",
        "# Evaluate performance\n",
        "accuracy = accuracy_score(y_test, y_pred)\n",
        "f1 = f1_score(y_test, y_pred, average='weighted')\n",
        "\n",
        "# Print results\n",
        "print(f\"Test Accuracy: {accuracy:.4f}\")\n",
        "print(f\"Weighted F1 Score: {f1:.4f}\")\n"
      ],
      "metadata": {
        "colab": {
          "base_uri": "https://localhost:8080/"
        },
        "id": "JGd1lVWO81mb",
        "outputId": "1b53c100-9a88-4f93-d565-d4971db52025"
      },
      "execution_count": null,
      "outputs": [
        {
          "output_type": "stream",
          "name": "stdout",
          "text": [
            "Test Accuracy: 0.6392\n",
            "Weighted F1 Score: 0.6239\n"
          ]
        }
      ]
    },
    {
      "cell_type": "markdown",
      "source": [
        "##Quantitative Data Prep\n"
      ],
      "metadata": {
        "id": "WfkNVzW3hlrL"
      }
    },
    {
      "cell_type": "markdown",
      "source": [
        "### ADHD - Gradient Boosted DT\n",
        "\n",
        "{'learning_rate': 0.01, 'max_depth': 3, 'min_samples_leaf': 1, 'min_samples_split': 2, 'n_estimators': 100}"
      ],
      "metadata": {
        "id": "rLKVNHpVuXLL"
      }
    },
    {
      "cell_type": "code",
      "source": [
        "# Combine the quantitative data with the ADHD_Outcome labels\n",
        "train_data = pd.merge(train_quantitative, train_solutions, on='participant_id')"
      ],
      "metadata": {
        "id": "GA2FsBIi2pFn"
      },
      "execution_count": null,
      "outputs": []
    },
    {
      "cell_type": "code",
      "source": [
        "train_data.fillna({'EHQ_EHQ_Total':train_data['EHQ_EHQ_Total'].mean()}, inplace = True)\n",
        "train_data.fillna({'ColorVision_CV_Score':train_data['ColorVision_CV_Score'].mean()}, inplace = True)\n",
        "train_data.fillna({'APQ_P_APQ_P_CP':train_data['APQ_P_APQ_P_CP'].mean()}, inplace = True)\n",
        "train_data.fillna({'APQ_P_APQ_P_ID':train_data['APQ_P_APQ_P_ID'].mean()}, inplace = True)\n",
        "train_data.fillna({'APQ_P_APQ_P_INV':train_data['APQ_P_APQ_P_INV'].mean()}, inplace = True)\n",
        "train_data.fillna({'APQ_P_APQ_P_OPD':train_data['APQ_P_APQ_P_OPD'].mean()}, inplace = True)\n",
        "train_data.fillna({'APQ_P_APQ_P_PM':train_data['APQ_P_APQ_P_PM'].mean()}, inplace = True)\n",
        "train_data.fillna({'APQ_P_APQ_P_PP':train_data['APQ_P_APQ_P_PP'].mean()}, inplace = True)\n",
        "\n",
        "train_data.fillna({'SDQ_SDQ_Conduct_Problems':train_data['SDQ_SDQ_Conduct_Problems'].mean()}, inplace = True)\n",
        "train_data.fillna({'SDQ_SDQ_Difficulties_Total':train_data['SDQ_SDQ_Difficulties_Total'].mean()}, inplace = True)\n",
        "train_data.fillna({'SDQ_SDQ_Emotional_Problems':train_data['SDQ_SDQ_Emotional_Problems'].mean()}, inplace = True)\n",
        "train_data.fillna({'SDQ_SDQ_Externalizing':train_data['SDQ_SDQ_Externalizing'].mean()}, inplace = True)\n",
        "train_data.fillna({'SDQ_SDQ_Generating_Impact':train_data['SDQ_SDQ_Generating_Impact'].mean()}, inplace = True)\n",
        "train_data.fillna({'SDQ_SDQ_Hyperactivity':train_data['SDQ_SDQ_Hyperactivity'].mean()}, inplace = True)\n",
        "train_data.fillna({'SDQ_SDQ_Internalizing':train_data['SDQ_SDQ_Internalizing'].mean()}, inplace = True)\n",
        "train_data.fillna({'SDQ_SDQ_Peer_Problems':train_data['SDQ_SDQ_Peer_Problems'].mean()}, inplace = True)\n",
        "train_data.fillna({'SDQ_SDQ_Prosocial':train_data['SDQ_SDQ_Prosocial'].mean()}, inplace = True)\n",
        "train_data.fillna({'MRI_Track_Age_at_Scan':train_data['MRI_Track_Age_at_Scan'].mean()}, inplace = True)"
      ],
      "metadata": {
        "id": "TrssdwZd3ExI"
      },
      "execution_count": null,
      "outputs": []
    },
    {
      "cell_type": "code",
      "source": [
        "nan_count = np.sum(train_data.isnull(), axis=0)\n",
        "nan_count"
      ],
      "metadata": {
        "colab": {
          "base_uri": "https://localhost:8080/",
          "height": 742
        },
        "id": "dPABUQ6z2sTi",
        "outputId": "321208cd-8e37-4428-836f-a74acc915e53"
      },
      "execution_count": null,
      "outputs": [
        {
          "output_type": "execute_result",
          "data": {
            "text/plain": [
              "participant_id                0\n",
              "EHQ_EHQ_Total                 0\n",
              "ColorVision_CV_Score          0\n",
              "APQ_P_APQ_P_CP                0\n",
              "APQ_P_APQ_P_ID                0\n",
              "APQ_P_APQ_P_INV               0\n",
              "APQ_P_APQ_P_OPD               0\n",
              "APQ_P_APQ_P_PM                0\n",
              "APQ_P_APQ_P_PP                0\n",
              "SDQ_SDQ_Conduct_Problems      0\n",
              "SDQ_SDQ_Difficulties_Total    0\n",
              "SDQ_SDQ_Emotional_Problems    0\n",
              "SDQ_SDQ_Externalizing         0\n",
              "SDQ_SDQ_Generating_Impact     0\n",
              "SDQ_SDQ_Hyperactivity         0\n",
              "SDQ_SDQ_Internalizing         0\n",
              "SDQ_SDQ_Peer_Problems         0\n",
              "SDQ_SDQ_Prosocial             0\n",
              "MRI_Track_Age_at_Scan         0\n",
              "ADHD_Outcome                  0\n",
              "Sex_F                         0\n",
              "dtype: int64"
            ],
            "text/html": [
              "<div>\n",
              "<style scoped>\n",
              "    .dataframe tbody tr th:only-of-type {\n",
              "        vertical-align: middle;\n",
              "    }\n",
              "\n",
              "    .dataframe tbody tr th {\n",
              "        vertical-align: top;\n",
              "    }\n",
              "\n",
              "    .dataframe thead th {\n",
              "        text-align: right;\n",
              "    }\n",
              "</style>\n",
              "<table border=\"1\" class=\"dataframe\">\n",
              "  <thead>\n",
              "    <tr style=\"text-align: right;\">\n",
              "      <th></th>\n",
              "      <th>0</th>\n",
              "    </tr>\n",
              "  </thead>\n",
              "  <tbody>\n",
              "    <tr>\n",
              "      <th>participant_id</th>\n",
              "      <td>0</td>\n",
              "    </tr>\n",
              "    <tr>\n",
              "      <th>EHQ_EHQ_Total</th>\n",
              "      <td>0</td>\n",
              "    </tr>\n",
              "    <tr>\n",
              "      <th>ColorVision_CV_Score</th>\n",
              "      <td>0</td>\n",
              "    </tr>\n",
              "    <tr>\n",
              "      <th>APQ_P_APQ_P_CP</th>\n",
              "      <td>0</td>\n",
              "    </tr>\n",
              "    <tr>\n",
              "      <th>APQ_P_APQ_P_ID</th>\n",
              "      <td>0</td>\n",
              "    </tr>\n",
              "    <tr>\n",
              "      <th>APQ_P_APQ_P_INV</th>\n",
              "      <td>0</td>\n",
              "    </tr>\n",
              "    <tr>\n",
              "      <th>APQ_P_APQ_P_OPD</th>\n",
              "      <td>0</td>\n",
              "    </tr>\n",
              "    <tr>\n",
              "      <th>APQ_P_APQ_P_PM</th>\n",
              "      <td>0</td>\n",
              "    </tr>\n",
              "    <tr>\n",
              "      <th>APQ_P_APQ_P_PP</th>\n",
              "      <td>0</td>\n",
              "    </tr>\n",
              "    <tr>\n",
              "      <th>SDQ_SDQ_Conduct_Problems</th>\n",
              "      <td>0</td>\n",
              "    </tr>\n",
              "    <tr>\n",
              "      <th>SDQ_SDQ_Difficulties_Total</th>\n",
              "      <td>0</td>\n",
              "    </tr>\n",
              "    <tr>\n",
              "      <th>SDQ_SDQ_Emotional_Problems</th>\n",
              "      <td>0</td>\n",
              "    </tr>\n",
              "    <tr>\n",
              "      <th>SDQ_SDQ_Externalizing</th>\n",
              "      <td>0</td>\n",
              "    </tr>\n",
              "    <tr>\n",
              "      <th>SDQ_SDQ_Generating_Impact</th>\n",
              "      <td>0</td>\n",
              "    </tr>\n",
              "    <tr>\n",
              "      <th>SDQ_SDQ_Hyperactivity</th>\n",
              "      <td>0</td>\n",
              "    </tr>\n",
              "    <tr>\n",
              "      <th>SDQ_SDQ_Internalizing</th>\n",
              "      <td>0</td>\n",
              "    </tr>\n",
              "    <tr>\n",
              "      <th>SDQ_SDQ_Peer_Problems</th>\n",
              "      <td>0</td>\n",
              "    </tr>\n",
              "    <tr>\n",
              "      <th>SDQ_SDQ_Prosocial</th>\n",
              "      <td>0</td>\n",
              "    </tr>\n",
              "    <tr>\n",
              "      <th>MRI_Track_Age_at_Scan</th>\n",
              "      <td>0</td>\n",
              "    </tr>\n",
              "    <tr>\n",
              "      <th>ADHD_Outcome</th>\n",
              "      <td>0</td>\n",
              "    </tr>\n",
              "    <tr>\n",
              "      <th>Sex_F</th>\n",
              "      <td>0</td>\n",
              "    </tr>\n",
              "  </tbody>\n",
              "</table>\n",
              "</div><br><label><b>dtype:</b> int64</label>"
            ]
          },
          "metadata": {},
          "execution_count": 36
        }
      ]
    },
    {
      "cell_type": "code",
      "source": [
        "# Separate features (X) and target variable (y)\n",
        "X = train_data.drop(['participant_id', 'Sex_F', 'ADHD_Outcome', 'MRI_Track_Age_at_Scan'], axis=1)\n",
        "y = train_data['ADHD_Outcome']\n",
        "\n",
        "# Split data into training and testing sets\n",
        "X_train, X_test, y_train, y_test = train_test_split(X, y, test_size=0.2, random_state=42)\n",
        "\n",
        "# Scale numerical features\n",
        "scaler = StandardScaler()\n",
        "X_train = scaler.fit_transform(X_train)\n",
        "X_test = scaler.transform(X_test)\n",
        "\n",
        "# Initialize and train the Gradient Boosting Classifier\n",
        "gbdt_quant_ADHD = GradientBoostingClassifier(\n",
        "    learning_rate=0.01,\n",
        "    max_depth=3,\n",
        "    min_samples_leaf=1,\n",
        "    min_samples_split=2,\n",
        "    n_estimators=100,\n",
        "    random_state=42\n",
        ")\n",
        "\n",
        "gbdt_quant_ADHD.fit(X_train, y_train)\n",
        "\n",
        "# Make predictions on the test set\n",
        "y_pred = gbdt_quant_ADHD.predict(X_test)\n",
        "\n",
        "# Evaluate the model\n",
        "accuracy = accuracy_score(y_test, y_pred)\n",
        "print(f'Gradient Boosting Accuracy: {accuracy:.4f}')\n",
        "\n",
        "f1 = f1_score(y_test, y_pred, average='weighted')\n",
        "print(f\"Weighted F1 Score: {f1:.4f}\")"
      ],
      "metadata": {
        "colab": {
          "base_uri": "https://localhost:8080/"
        },
        "id": "JgaBxerx6rWk",
        "outputId": "1efdbe25-3a7f-4bad-be2f-ccc9636abe43"
      },
      "execution_count": null,
      "outputs": [
        {
          "output_type": "stream",
          "name": "stdout",
          "text": [
            "Gradient Boosting Accuracy: 0.8025\n",
            "Weighted F1 Score: 0.7837\n"
          ]
        }
      ]
    },
    {
      "cell_type": "markdown",
      "source": [
        "### Sex_f - Optuna Model\n",
        "\n",
        "'n_estimators': 150, 'learning_rate': 0.08374413872051761, 'max_depth': 4\n"
      ],
      "metadata": {
        "id": "rp7fEFx5uH-9"
      }
    },
    {
      "cell_type": "code",
      "source": [
        "pip install optuna"
      ],
      "metadata": {
        "collapsed": true,
        "id": "4OIj21pi7ihF",
        "colab": {
          "base_uri": "https://localhost:8080/"
        },
        "outputId": "ad0641d3-47bd-47e3-efb9-5ed00c3840bf"
      },
      "execution_count": null,
      "outputs": [
        {
          "output_type": "stream",
          "name": "stdout",
          "text": [
            "Collecting optuna\n",
            "  Downloading optuna-4.2.1-py3-none-any.whl.metadata (17 kB)\n",
            "Collecting alembic>=1.5.0 (from optuna)\n",
            "  Downloading alembic-1.15.1-py3-none-any.whl.metadata (7.2 kB)\n",
            "Collecting colorlog (from optuna)\n",
            "  Downloading colorlog-6.9.0-py3-none-any.whl.metadata (10 kB)\n",
            "Requirement already satisfied: numpy in /usr/local/lib/python3.11/dist-packages (from optuna) (2.0.2)\n",
            "Requirement already satisfied: packaging>=20.0 in /usr/local/lib/python3.11/dist-packages (from optuna) (24.2)\n",
            "Requirement already satisfied: sqlalchemy>=1.4.2 in /usr/local/lib/python3.11/dist-packages (from optuna) (2.0.39)\n",
            "Requirement already satisfied: tqdm in /usr/local/lib/python3.11/dist-packages (from optuna) (4.67.1)\n",
            "Requirement already satisfied: PyYAML in /usr/local/lib/python3.11/dist-packages (from optuna) (6.0.2)\n",
            "Requirement already satisfied: Mako in /usr/lib/python3/dist-packages (from alembic>=1.5.0->optuna) (1.1.3)\n",
            "Requirement already satisfied: typing-extensions>=4.12 in /usr/local/lib/python3.11/dist-packages (from alembic>=1.5.0->optuna) (4.12.2)\n",
            "Requirement already satisfied: greenlet!=0.4.17 in /usr/local/lib/python3.11/dist-packages (from sqlalchemy>=1.4.2->optuna) (3.1.1)\n",
            "Downloading optuna-4.2.1-py3-none-any.whl (383 kB)\n",
            "\u001b[2K   \u001b[90m━━━━━━━━━━━━━━━━━━━━━━━━━━━━━━━━━━━━━━━━\u001b[0m \u001b[32m383.6/383.6 kB\u001b[0m \u001b[31m7.3 MB/s\u001b[0m eta \u001b[36m0:00:00\u001b[0m\n",
            "\u001b[?25hDownloading alembic-1.15.1-py3-none-any.whl (231 kB)\n",
            "\u001b[2K   \u001b[90m━━━━━━━━━━━━━━━━━━━━━━━━━━━━━━━━━━━━━━━━\u001b[0m \u001b[32m231.8/231.8 kB\u001b[0m \u001b[31m13.6 MB/s\u001b[0m eta \u001b[36m0:00:00\u001b[0m\n",
            "\u001b[?25hDownloading colorlog-6.9.0-py3-none-any.whl (11 kB)\n",
            "Installing collected packages: colorlog, alembic, optuna\n",
            "Successfully installed alembic-1.15.1 colorlog-6.9.0 optuna-4.2.1\n"
          ]
        }
      ]
    },
    {
      "cell_type": "code",
      "source": [
        "# most code from geeks for geeks\n",
        "import optuna\n",
        "from sklearn.ensemble import GradientBoostingClassifier\n",
        "from sklearn.model_selection import train_test_split\n",
        "from sklearn.metrics import accuracy_score\n",
        "from sklearn.preprocessing import StandardScaler\n",
        "\n",
        "\n",
        "# this code is taken from above ################\n",
        "# Combine the quantitative data with the ADHD_Outcome labels\n",
        "#train_data = pd.merge(train_quantitative, train_solutions, on='participant_id')\n",
        "\n",
        "# Separate features (X) and target variable (y)\n",
        "X = train_data.drop(['participant_id', 'Sex_F', 'ADHD_Outcome', 'MRI_Track_Age_at_Scan'], axis=1)\n",
        "y = train_data['Sex_F']\n",
        "\n",
        "# Split data into training and testing sets\n",
        "X_train, X_test, y_train, y_test = train_test_split(X, y, test_size=0.2, random_state=42)\n",
        "\n",
        "# Scale numerical features\n",
        "scaler2 = StandardScaler()\n",
        "X_train = scaler2.fit_transform(X_train)\n",
        "X_test = scaler2.transform(X_test)\n",
        "###################################################\n",
        "\n",
        "def objective(trial):\n",
        "    param_space = {\n",
        "        'n_estimators': trial.suggest_int('n_estimators', 50, 250, step=50),\n",
        "        'learning_rate': trial.suggest_float('learning_rate', 0.01, 0.2),\n",
        "        'max_depth': trial.suggest_int('max_depth', 3, 7),\n",
        "    }\n",
        "\n",
        "    gb_model = GradientBoostingClassifier(**param_space, validation_fraction=0.1, n_iter_no_change=5, random_state=42)\n",
        "\n",
        "    gb_model.fit(X_train, y_train)\n",
        "\n",
        "    y_pred = gb_model.predict(X_test)\n",
        "\n",
        "    accuracy = accuracy_score(y_test, y_pred)\n",
        "\n",
        "    return 1.0 - accuracy\n",
        "\n",
        "study = optuna.create_study(direction='minimize')\n",
        "study.optimize(objective, n_trials=50)\n",
        "\n",
        "best_params_optuna = study.best_params\n",
        "best_model_optuna = GradientBoostingClassifier(**best_params_optuna, validation_fraction=0.1, n_iter_no_change=5, random_state=42)\n",
        "best_model_optuna.fit(X_train, y_train)\n",
        "\n",
        "y_pred_best_optuna = best_model_optuna.predict(X_test)\n",
        "\n",
        "accuracy_best_optuna = accuracy_score(y_test, y_pred_best_optuna)\n",
        "\n",
        "print(f\"Best Model Accuracy (Optuna): {accuracy_best_optuna}\")\n"
      ],
      "metadata": {
        "collapsed": true,
        "id": "2vr21amC8TDi",
        "colab": {
          "base_uri": "https://localhost:8080/"
        },
        "outputId": "28f5f902-feae-4f9c-fab1-56cf6f5e57b3"
      },
      "execution_count": null,
      "outputs": [
        {
          "output_type": "stream",
          "name": "stderr",
          "text": [
            "[I 2025-03-22 17:23:59,492] A new study created in memory with name: no-name-941adf60-4fe4-42d6-96f4-93b8de3caa1b\n",
            "[I 2025-03-22 17:24:00,620] Trial 0 finished with value: 0.30452674897119336 and parameters: {'n_estimators': 200, 'learning_rate': 0.014295091654364121, 'max_depth': 6}. Best is trial 0 with value: 0.30452674897119336.\n",
            "[I 2025-03-22 17:24:00,789] Trial 1 finished with value: 0.308641975308642 and parameters: {'n_estimators': 100, 'learning_rate': 0.08072519517313015, 'max_depth': 3}. Best is trial 0 with value: 0.30452674897119336.\n",
            "[I 2025-03-22 17:24:01,375] Trial 2 finished with value: 0.308641975308642 and parameters: {'n_estimators': 50, 'learning_rate': 0.015034011798774673, 'max_depth': 5}. Best is trial 0 with value: 0.30452674897119336.\n",
            "[I 2025-03-22 17:24:01,781] Trial 3 finished with value: 0.33333333333333337 and parameters: {'n_estimators': 150, 'learning_rate': 0.1325050329853454, 'max_depth': 7}. Best is trial 0 with value: 0.30452674897119336.\n",
            "[I 2025-03-22 17:24:02,630] Trial 4 finished with value: 0.29218106995884774 and parameters: {'n_estimators': 150, 'learning_rate': 0.011214523091324554, 'max_depth': 4}. Best is trial 4 with value: 0.29218106995884774.\n",
            "[I 2025-03-22 17:24:02,823] Trial 5 finished with value: 0.3004115226337448 and parameters: {'n_estimators': 200, 'learning_rate': 0.08709994527498918, 'max_depth': 5}. Best is trial 4 with value: 0.29218106995884774.\n",
            "[I 2025-03-22 17:24:02,959] Trial 6 finished with value: 0.3004115226337448 and parameters: {'n_estimators': 200, 'learning_rate': 0.07912011359565123, 'max_depth': 4}. Best is trial 4 with value: 0.29218106995884774.\n",
            "[I 2025-03-22 17:24:03,315] Trial 7 finished with value: 0.2962962962962963 and parameters: {'n_estimators': 250, 'learning_rate': 0.04169190896363243, 'max_depth': 5}. Best is trial 4 with value: 0.29218106995884774.\n",
            "[I 2025-03-22 17:24:03,590] Trial 8 finished with value: 0.2880658436213992 and parameters: {'n_estimators': 250, 'learning_rate': 0.11795683825972057, 'max_depth': 5}. Best is trial 8 with value: 0.2880658436213992.\n",
            "[I 2025-03-22 17:24:03,780] Trial 9 finished with value: 0.29218106995884774 and parameters: {'n_estimators': 150, 'learning_rate': 0.08302494817181977, 'max_depth': 5}. Best is trial 8 with value: 0.2880658436213992.\n",
            "[I 2025-03-22 17:24:04,282] Trial 10 finished with value: 0.308641975308642 and parameters: {'n_estimators': 250, 'learning_rate': 0.1943856090436128, 'max_depth': 7}. Best is trial 8 with value: 0.2880658436213992.\n",
            "[I 2025-03-22 17:24:04,412] Trial 11 finished with value: 0.31275720164609055 and parameters: {'n_estimators': 100, 'learning_rate': 0.13715694424723587, 'max_depth': 3}. Best is trial 8 with value: 0.2880658436213992.\n",
            "[I 2025-03-22 17:24:04,626] Trial 12 finished with value: 0.2962962962962963 and parameters: {'n_estimators': 150, 'learning_rate': 0.12722211800464706, 'max_depth': 4}. Best is trial 8 with value: 0.2880658436213992.\n",
            "[I 2025-03-22 17:24:04,865] Trial 13 finished with value: 0.30452674897119336 and parameters: {'n_estimators': 100, 'learning_rate': 0.1794057867056183, 'max_depth': 4}. Best is trial 8 with value: 0.2880658436213992.\n",
            "[I 2025-03-22 17:24:05,404] Trial 14 finished with value: 0.34156378600823045 and parameters: {'n_estimators': 250, 'learning_rate': 0.050813559324901926, 'max_depth': 6}. Best is trial 8 with value: 0.2880658436213992.\n",
            "[I 2025-03-22 17:24:05,568] Trial 15 finished with value: 0.3004115226337448 and parameters: {'n_estimators': 200, 'learning_rate': 0.16215343803395826, 'max_depth': 4}. Best is trial 8 with value: 0.2880658436213992.\n",
            "[I 2025-03-22 17:24:05,878] Trial 16 finished with value: 0.2962962962962963 and parameters: {'n_estimators': 50, 'learning_rate': 0.11035060203223554, 'max_depth': 6}. Best is trial 8 with value: 0.2880658436213992.\n",
            "[I 2025-03-22 17:24:06,191] Trial 17 finished with value: 0.31275720164609055 and parameters: {'n_estimators': 100, 'learning_rate': 0.04341733166352101, 'max_depth': 3}. Best is trial 8 with value: 0.2880658436213992.\n",
            "[I 2025-03-22 17:24:06,367] Trial 18 finished with value: 0.30452674897119336 and parameters: {'n_estimators': 200, 'learning_rate': 0.16066305029669975, 'max_depth': 4}. Best is trial 8 with value: 0.2880658436213992.\n",
            "[I 2025-03-22 17:24:06,545] Trial 19 finished with value: 0.3004115226337448 and parameters: {'n_estimators': 150, 'learning_rate': 0.10240117282730826, 'max_depth': 6}. Best is trial 8 with value: 0.2880658436213992.\n",
            "[I 2025-03-22 17:24:06,681] Trial 20 finished with value: 0.3168724279835391 and parameters: {'n_estimators': 250, 'learning_rate': 0.15222715735069745, 'max_depth': 4}. Best is trial 8 with value: 0.2880658436213992.\n",
            "[I 2025-03-22 17:24:06,870] Trial 21 finished with value: 0.30452674897119336 and parameters: {'n_estimators': 150, 'learning_rate': 0.06461023443435951, 'max_depth': 5}. Best is trial 8 with value: 0.2880658436213992.\n",
            "[I 2025-03-22 17:24:07,105] Trial 22 finished with value: 0.30452674897119336 and parameters: {'n_estimators': 150, 'learning_rate': 0.11483935767042998, 'max_depth': 5}. Best is trial 8 with value: 0.2880658436213992.\n",
            "[I 2025-03-22 17:24:07,544] Trial 23 finished with value: 0.2962962962962963 and parameters: {'n_estimators': 150, 'learning_rate': 0.028166452161456954, 'max_depth': 5}. Best is trial 8 with value: 0.2880658436213992.\n",
            "[I 2025-03-22 17:24:08,148] Trial 24 finished with value: 0.3292181069958847 and parameters: {'n_estimators': 100, 'learning_rate': 0.09418839554977992, 'max_depth': 6}. Best is trial 8 with value: 0.2880658436213992.\n",
            "[I 2025-03-22 17:24:08,376] Trial 25 finished with value: 0.29218106995884774 and parameters: {'n_estimators': 200, 'learning_rate': 0.06562590227685192, 'max_depth': 4}. Best is trial 8 with value: 0.2880658436213992.\n",
            "[I 2025-03-22 17:24:08,734] Trial 26 finished with value: 0.2962962962962963 and parameters: {'n_estimators': 150, 'learning_rate': 0.06380990872945222, 'max_depth': 5}. Best is trial 8 with value: 0.2880658436213992.\n",
            "[I 2025-03-22 17:24:09,110] Trial 27 finished with value: 0.30452674897119336 and parameters: {'n_estimators': 150, 'learning_rate': 0.11635211601826342, 'max_depth': 5}. Best is trial 8 with value: 0.2880658436213992.\n",
            "[I 2025-03-22 17:24:09,360] Trial 28 finished with value: 0.3168724279835391 and parameters: {'n_estimators': 200, 'learning_rate': 0.14505781022568864, 'max_depth': 3}. Best is trial 8 with value: 0.2880658436213992.\n",
            "[I 2025-03-22 17:24:09,501] Trial 29 finished with value: 0.308641975308642 and parameters: {'n_estimators': 100, 'learning_rate': 0.011981793484942285, 'max_depth': 6}. Best is trial 8 with value: 0.2880658436213992.\n",
            "[I 2025-03-22 17:24:09,833] Trial 30 finished with value: 0.30452674897119336 and parameters: {'n_estimators': 250, 'learning_rate': 0.031506102418228016, 'max_depth': 4}. Best is trial 8 with value: 0.2880658436213992.\n",
            "[I 2025-03-22 17:24:10,146] Trial 31 finished with value: 0.2962962962962963 and parameters: {'n_estimators': 200, 'learning_rate': 0.06506562385794802, 'max_depth': 4}. Best is trial 8 with value: 0.2880658436213992.\n",
            "[I 2025-03-22 17:24:10,598] Trial 32 finished with value: 0.2962962962962963 and parameters: {'n_estimators': 200, 'learning_rate': 0.07673225091194183, 'max_depth': 3}. Best is trial 8 with value: 0.2880658436213992.\n",
            "[I 2025-03-22 17:24:11,241] Trial 33 finished with value: 0.29218106995884774 and parameters: {'n_estimators': 200, 'learning_rate': 0.099979731481136, 'max_depth': 4}. Best is trial 8 with value: 0.2880658436213992.\n",
            "[I 2025-03-22 17:24:11,718] Trial 34 finished with value: 0.2962962962962963 and parameters: {'n_estimators': 250, 'learning_rate': 0.05527632833754474, 'max_depth': 5}. Best is trial 8 with value: 0.2880658436213992.\n",
            "[I 2025-03-22 17:24:12,421] Trial 35 finished with value: 0.2962962962962963 and parameters: {'n_estimators': 200, 'learning_rate': 0.025336062707172324, 'max_depth': 5}. Best is trial 8 with value: 0.2880658436213992.\n",
            "[I 2025-03-22 17:24:12,979] Trial 36 finished with value: 0.32098765432098764 and parameters: {'n_estimators': 150, 'learning_rate': 0.08879474016078392, 'max_depth': 4}. Best is trial 8 with value: 0.2880658436213992.\n",
            "[I 2025-03-22 17:24:13,502] Trial 37 finished with value: 0.33333333333333337 and parameters: {'n_estimators': 250, 'learning_rate': 0.12325513664074882, 'max_depth': 7}. Best is trial 8 with value: 0.2880658436213992.\n",
            "[I 2025-03-22 17:24:13,697] Trial 38 finished with value: 0.30452674897119336 and parameters: {'n_estimators': 150, 'learning_rate': 0.07471245555901339, 'max_depth': 3}. Best is trial 8 with value: 0.2880658436213992.\n",
            "[I 2025-03-22 17:24:14,173] Trial 39 finished with value: 0.30452674897119336 and parameters: {'n_estimators': 200, 'learning_rate': 0.019146412580190564, 'max_depth': 5}. Best is trial 8 with value: 0.2880658436213992.\n",
            "[I 2025-03-22 17:24:14,412] Trial 40 finished with value: 0.3004115226337448 and parameters: {'n_estimators': 250, 'learning_rate': 0.08635701558743611, 'max_depth': 5}. Best is trial 8 with value: 0.2880658436213992.\n",
            "[I 2025-03-22 17:24:14,766] Trial 41 finished with value: 0.3004115226337448 and parameters: {'n_estimators': 200, 'learning_rate': 0.09879688510612863, 'max_depth': 4}. Best is trial 8 with value: 0.2880658436213992.\n",
            "[I 2025-03-22 17:24:15,122] Trial 42 finished with value: 0.308641975308642 and parameters: {'n_estimators': 200, 'learning_rate': 0.10078087767696443, 'max_depth': 4}. Best is trial 8 with value: 0.2880658436213992.\n",
            "[I 2025-03-22 17:24:15,409] Trial 43 finished with value: 0.30452674897119336 and parameters: {'n_estimators': 150, 'learning_rate': 0.10742925664495406, 'max_depth': 4}. Best is trial 8 with value: 0.2880658436213992.\n",
            "[I 2025-03-22 17:24:15,561] Trial 44 finished with value: 0.2962962962962963 and parameters: {'n_estimators': 150, 'learning_rate': 0.13276619253832578, 'max_depth': 4}. Best is trial 8 with value: 0.2880658436213992.\n",
            "[I 2025-03-22 17:24:15,809] Trial 45 finished with value: 0.31275720164609055 and parameters: {'n_estimators': 200, 'learning_rate': 0.12196532148279732, 'max_depth': 3}. Best is trial 8 with value: 0.2880658436213992.\n",
            "[I 2025-03-22 17:24:16,245] Trial 46 finished with value: 0.2962962962962963 and parameters: {'n_estimators': 100, 'learning_rate': 0.03937202582775097, 'max_depth': 4}. Best is trial 8 with value: 0.2880658436213992.\n",
            "[I 2025-03-22 17:24:16,454] Trial 47 finished with value: 0.2962962962962963 and parameters: {'n_estimators': 250, 'learning_rate': 0.07391635526444834, 'max_depth': 5}. Best is trial 8 with value: 0.2880658436213992.\n",
            "[I 2025-03-22 17:24:16,575] Trial 48 finished with value: 0.3251028806584362 and parameters: {'n_estimators': 200, 'learning_rate': 0.08918573939947667, 'max_depth': 6}. Best is trial 8 with value: 0.2880658436213992.\n",
            "[I 2025-03-22 17:24:16,874] Trial 49 finished with value: 0.2962962962962963 and parameters: {'n_estimators': 50, 'learning_rate': 0.05166531320010981, 'max_depth': 4}. Best is trial 8 with value: 0.2880658436213992.\n"
          ]
        },
        {
          "output_type": "stream",
          "name": "stdout",
          "text": [
            "Best Model Accuracy (Optuna): 0.7119341563786008\n"
          ]
        }
      ]
    },
    {
      "cell_type": "markdown",
      "source": [
        "For some reason I am getting that the best parameters are {'n_estimators': 200, 'learning_rate': 0.11596113051499049, 'max_depth': 4} ?"
      ],
      "metadata": {
        "id": "VH7wRSO99Awj"
      }
    },
    {
      "cell_type": "code",
      "source": [
        "import optuna\n",
        "# most code from geeks for geeks\n",
        "\n",
        "\n",
        "\n",
        "# this code is taken from above ################\n",
        "# Combine the quantitative data with the ADHD_Outcome labels\n",
        "#train_data = pd.merge(train_quantitative, train_solutions, on='participant_id')\n",
        "\n",
        "# Separate features (X) and target variable (y)\n",
        "X = train_data.drop(['participant_id', 'Sex_F', 'ADHD_Outcome', 'MRI_Track_Age_at_Scan'], axis=1)\n",
        "y = train_data['Sex_F']\n",
        "\n",
        "# Split data into training and testing sets\n",
        "X_train, X_test, y_train, y_test = train_test_split(X, y, test_size=0.2, random_state=42)\n",
        "\n",
        "# Scale numerical features\n",
        "scaler2 = StandardScaler()\n",
        "X_train = scaler2.fit_transform(X_train)\n",
        "X_test = scaler2.transform(X_test)\n",
        "###################################################\n",
        "\n",
        "gbdt_quant_female = GradientBoostingClassifier(\n",
        "    learning_rate=0.11596113051499049,\n",
        "    max_depth=4,\n",
        "    n_estimators=200,\n",
        "    validation_fraction=0.1,\n",
        "    n_iter_no_change=5,\n",
        "    random_state=42\n",
        ")\n",
        "gbdt_quant_female.fit(X_train, y_train)\n",
        "\n",
        "y_pred_best_optuna = gbdt_quant_female.predict(X_test)\n",
        "\n",
        "accuracy_best_optuna = accuracy_score(y_test, y_pred_best_optuna)\n",
        "\n",
        "print(f\"Best Model Accuracy (Optuna): {accuracy_best_optuna}\")\n",
        "\n",
        "f1 = f1_score(y_test, y_pred, average='weighted')\n",
        "print(f\"Weighted F1 Score: {f1:.4f}\")\n"
      ],
      "metadata": {
        "id": "3ciaxdB47YP9",
        "colab": {
          "base_uri": "https://localhost:8080/"
        },
        "outputId": "5be5a20d-eb73-4f01-ff43-a1eb29438cd5"
      },
      "execution_count": null,
      "outputs": [
        {
          "output_type": "stream",
          "name": "stdout",
          "text": [
            "Best Model Accuracy (Optuna): 0.7119341563786008\n",
            "Weighted F1 Score: 0.3270\n"
          ]
        }
      ]
    },
    {
      "cell_type": "code",
      "source": [],
      "metadata": {
        "id": "H8wbNT5bhn8B"
      },
      "execution_count": null,
      "outputs": []
    },
    {
      "cell_type": "markdown",
      "source": [
        "## FCM Data Prep"
      ],
      "metadata": {
        "id": "SypWyOMOhoX1"
      }
    },
    {
      "cell_type": "code",
      "source": [
        "!pip install torch-geometric"
      ],
      "metadata": {
        "id": "4uu9CkeXCjZs",
        "colab": {
          "base_uri": "https://localhost:8080/"
        },
        "outputId": "eebbe148-8412-46a0-fdc6-4060dbf1a608"
      },
      "execution_count": null,
      "outputs": [
        {
          "output_type": "stream",
          "name": "stdout",
          "text": [
            "Collecting torch-geometric\n",
            "  Downloading torch_geometric-2.6.1-py3-none-any.whl.metadata (63 kB)\n",
            "\u001b[?25l     \u001b[90m━━━━━━━━━━━━━━━━━━━━━━━━━━━━━━━━━━━━━━━━\u001b[0m \u001b[32m0.0/63.1 kB\u001b[0m \u001b[31m?\u001b[0m eta \u001b[36m-:--:--\u001b[0m\r\u001b[2K     \u001b[91m━━━━━━━━━━━━━━━━━━━━━━━━━━━━━━━━━━━━━━\u001b[0m\u001b[91m╸\u001b[0m\u001b[90m━\u001b[0m \u001b[32m61.4/63.1 kB\u001b[0m \u001b[31m2.5 MB/s\u001b[0m eta \u001b[36m0:00:01\u001b[0m\r\u001b[2K     \u001b[90m━━━━━━━━━━━━━━━━━━━━━━━━━━━━━━━━━━━━━━━━\u001b[0m \u001b[32m63.1/63.1 kB\u001b[0m \u001b[31m1.5 MB/s\u001b[0m eta \u001b[36m0:00:00\u001b[0m\n",
            "\u001b[?25hRequirement already satisfied: aiohttp in /usr/local/lib/python3.11/dist-packages (from torch-geometric) (3.11.14)\n",
            "Requirement already satisfied: fsspec in /usr/local/lib/python3.11/dist-packages (from torch-geometric) (2025.3.0)\n",
            "Requirement already satisfied: jinja2 in /usr/local/lib/python3.11/dist-packages (from torch-geometric) (3.1.6)\n",
            "Requirement already satisfied: numpy in /usr/local/lib/python3.11/dist-packages (from torch-geometric) (2.0.2)\n",
            "Requirement already satisfied: psutil>=5.8.0 in /usr/local/lib/python3.11/dist-packages (from torch-geometric) (5.9.5)\n",
            "Requirement already satisfied: pyparsing in /usr/local/lib/python3.11/dist-packages (from torch-geometric) (3.2.1)\n",
            "Requirement already satisfied: requests in /usr/local/lib/python3.11/dist-packages (from torch-geometric) (2.32.3)\n",
            "Requirement already satisfied: tqdm in /usr/local/lib/python3.11/dist-packages (from torch-geometric) (4.67.1)\n",
            "Requirement already satisfied: aiohappyeyeballs>=2.3.0 in /usr/local/lib/python3.11/dist-packages (from aiohttp->torch-geometric) (2.6.1)\n",
            "Requirement already satisfied: aiosignal>=1.1.2 in /usr/local/lib/python3.11/dist-packages (from aiohttp->torch-geometric) (1.3.2)\n",
            "Requirement already satisfied: attrs>=17.3.0 in /usr/local/lib/python3.11/dist-packages (from aiohttp->torch-geometric) (25.3.0)\n",
            "Requirement already satisfied: frozenlist>=1.1.1 in /usr/local/lib/python3.11/dist-packages (from aiohttp->torch-geometric) (1.5.0)\n",
            "Requirement already satisfied: multidict<7.0,>=4.5 in /usr/local/lib/python3.11/dist-packages (from aiohttp->torch-geometric) (6.2.0)\n",
            "Requirement already satisfied: propcache>=0.2.0 in /usr/local/lib/python3.11/dist-packages (from aiohttp->torch-geometric) (0.3.0)\n",
            "Requirement already satisfied: yarl<2.0,>=1.17.0 in /usr/local/lib/python3.11/dist-packages (from aiohttp->torch-geometric) (1.18.3)\n",
            "Requirement already satisfied: MarkupSafe>=2.0 in /usr/local/lib/python3.11/dist-packages (from jinja2->torch-geometric) (3.0.2)\n",
            "Requirement already satisfied: charset-normalizer<4,>=2 in /usr/local/lib/python3.11/dist-packages (from requests->torch-geometric) (3.4.1)\n",
            "Requirement already satisfied: idna<4,>=2.5 in /usr/local/lib/python3.11/dist-packages (from requests->torch-geometric) (3.10)\n",
            "Requirement already satisfied: urllib3<3,>=1.21.1 in /usr/local/lib/python3.11/dist-packages (from requests->torch-geometric) (2.3.0)\n",
            "Requirement already satisfied: certifi>=2017.4.17 in /usr/local/lib/python3.11/dist-packages (from requests->torch-geometric) (2025.1.31)\n",
            "Downloading torch_geometric-2.6.1-py3-none-any.whl (1.1 MB)\n",
            "\u001b[2K   \u001b[90m━━━━━━━━━━━━━━━━━━━━━━━━━━━━━━━━━━━━━━━━\u001b[0m \u001b[32m1.1/1.1 MB\u001b[0m \u001b[31m17.0 MB/s\u001b[0m eta \u001b[36m0:00:00\u001b[0m\n",
            "\u001b[?25hInstalling collected packages: torch-geometric\n",
            "Successfully installed torch-geometric-2.6.1\n"
          ]
        }
      ]
    },
    {
      "cell_type": "code",
      "source": [
        "#reset graph_fcm before running below cell\n",
        "graph_fcm = fcm.merge(fcm_solutions, on=\"participant_id\")\n",
        "\n",
        "\n",
        "import torch\n",
        "import torch.nn.functional as F\n",
        "from torch_geometric.nn import GCNConv\n",
        "from torch_geometric.data import Data\n",
        "import numpy as np  # Ensure NumPy is imported\n",
        "\n",
        "# Check if GPU is available and set the device\n",
        "device = torch.device(\"cuda\" if torch.cuda.is_available() else \"cpu\")\n",
        "print(f\"Using device: {device}\")\n",
        "\n",
        "# Assuming 'graph_fcm' DataFrame is already loaded and preprocessed\n",
        "# Remove 'Sex_F' column\n",
        "graph_fcm = graph_fcm.drop('Sex_F', axis=1)\n",
        "\n",
        "# Prepare data for PyTorch Geometric\n",
        "connectivity_columns = [col for col in graph_fcm.columns if col not in ['participant_id', 'ADHD_Outcome']]\n",
        "features = graph_fcm[connectivity_columns].values\n",
        "labels = graph_fcm['ADHD_Outcome'].values\n",
        "\n",
        "# Create an adjacency matrix (replace with actual adjacency if available)\n",
        "num_nodes = features.shape[0]  # Ensure correct shape (number of samples, not features)\n",
        "adjacency_matrix = np.ones(((int)(num_nodes/2.5), (int)(num_nodes/2.5))) #LITERALLY JUST DIVIDED IN HALF SO ITS NOT FULLY CONNECTED ITS HALF CONNECTED?\n",
        "np.fill_diagonal(adjacency_matrix, 0)  # No self-loops\n",
        "\n",
        "# Convert to PyTorch tensors and move to device\n",
        "data = Data(\n",
        "    x=torch.tensor(features, dtype=torch.float32).to(device),\n",
        "    edge_index=torch.tensor(np.array(np.where(adjacency_matrix)), dtype=torch.long).to(device),\n",
        "    y=torch.tensor(labels, dtype=torch.long).to(device)\n",
        ")\n",
        "\n",
        "\n",
        "class GCN(torch.nn.Module):\n",
        "    def __init__(self, in_channels, hidden_channels, out_channels):\n",
        "        super().__init__()\n",
        "        self.conv1 = GCNConv(in_channels, hidden_channels)\n",
        "        self.conv2 = GCNConv(hidden_channels, out_channels)\n",
        "\n",
        "    def forward(self, x, edge_index):\n",
        "        x = self.conv1(x, edge_index)\n",
        "        x = F.relu(x)\n",
        "        x = F.dropout(x, training=self.training)\n",
        "        x = self.conv2(x, edge_index)\n",
        "        return F.log_softmax(x, dim=1)\n",
        "\n",
        "\n",
        "# Hyperparameters\n",
        "in_channels = data.num_features\n",
        "hidden_channels = 64\n",
        "out_channels = 2  # Two classes: ADHD (1) and no ADHD (0)\n",
        "learning_rate = 0.01\n",
        "epochs = 200\n",
        "\n",
        "# Model, optimizer, and loss function\n",
        "model_adhd = GCN(in_channels, hidden_channels, out_channels).to(device)\n",
        "optimizer = torch.optim.Adam(model_adhd.parameters(), lr=learning_rate)\n",
        "criterion = torch.nn.CrossEntropyLoss()\n",
        "\n",
        "# Train the model\n",
        "model_adhd.train()\n",
        "for epoch in range(epochs):\n",
        "    optimizer.zero_grad()\n",
        "    out = model_adhd(data.x, data.edge_index)\n",
        "    loss = criterion(out, data.y)\n",
        "    loss.backward()\n",
        "    optimizer.step()\n",
        "\n",
        "    if epoch % 50 == 0:\n",
        "        print(f\"Epoch {epoch}, Loss: {loss.item():.4f}\")\n",
        "\n",
        "# Evaluation\n",
        "model_adhd.eval()\n",
        "_, pred = model_adhd(data.x, data.edge_index).max(dim=1)\n",
        "correct = float(pred.eq(data.y).sum().item())\n",
        "acc = correct / len(data.y)\n",
        "print(f\"Accuracy: {acc:.4f}\")\n"
      ],
      "metadata": {
        "id": "uZISl9UK_aXC"
      },
      "execution_count": null,
      "outputs": []
    },
    {
      "cell_type": "code",
      "source": [
        "#reset graph_fcm before running below cell\n",
        "graph_fcm = fcm.merge(fcm_solutions, on=\"participant_id\")\n",
        "\n",
        "\n",
        "import torch\n",
        "import torch.nn.functional as F\n",
        "from torch_geometric.nn import GCNConv\n",
        "from torch_geometric.data import Data\n",
        "import numpy as np  # Ensure NumPy is imported\n",
        "\n",
        "# Check if GPU is available and set the device\n",
        "device = torch.device(\"cuda\" if torch.cuda.is_available() else \"cpu\")\n",
        "print(f\"Using device: {device}\")\n",
        "\n",
        "# Assuming 'graph_fcm' DataFrame is already loaded and preprocessed\n",
        "# Remove 'Sex_F' column\n",
        "graph_fcm = graph_fcm.drop('ADHD_Outcome', axis=1)\n",
        "\n",
        "# Prepare data for PyTorch Geometric\n",
        "connectivity_columns = [col for col in graph_fcm.columns if col not in ['participant_id', 'Sex_F']]\n",
        "features = graph_fcm[connectivity_columns].values\n",
        "labels = graph_fcm['Sex_F'].values\n",
        "\n",
        "# Create an adjacency matrix (replace with actual adjacency if available)\n",
        "num_nodes = features.shape[0]  # Ensure correct shape (number of samples, not features)\n",
        "adjacency_matrix = np.ones(((int)(num_nodes/2.5), (int)(num_nodes/2.5)))\n",
        "np.fill_diagonal(adjacency_matrix, 0)  # No self-loops\n",
        "\n",
        "# Convert to PyTorch tensors and move to device\n",
        "data = Data(\n",
        "    x=torch.tensor(features, dtype=torch.float32).to(device),\n",
        "    edge_index=torch.tensor(np.array(np.where(adjacency_matrix)), dtype=torch.long).to(device),\n",
        "    y=torch.tensor(labels, dtype=torch.long).to(device)\n",
        ")\n",
        "\n",
        "\n",
        "class GCN(torch.nn.Module):\n",
        "    def __init__(self, in_channels, hidden_channels, out_channels):\n",
        "        super().__init__()\n",
        "        self.conv1 = GCNConv(in_channels, hidden_channels)\n",
        "        self.conv2 = GCNConv(hidden_channels, out_channels)\n",
        "\n",
        "    def forward(self, x, edge_index):\n",
        "        x = self.conv1(x, edge_index)\n",
        "        x = F.relu(x)\n",
        "        x = F.dropout(x, training=self.training)\n",
        "        x = self.conv2(x, edge_index)\n",
        "        return F.log_softmax(x, dim=1)\n",
        "\n",
        "\n",
        "# Hyperparameters\n",
        "in_channels = data.num_features\n",
        "hidden_channels = 64\n",
        "out_channels = 2  # Two classes: ADHD (1) and no ADHD (0)\n",
        "learning_rate = 0.01\n",
        "epochs = 200\n",
        "\n",
        "# Model, optimizer, and loss function\n",
        "model_f = GCN(in_channels, hidden_channels, out_channels).to(device)\n",
        "optimizer = torch.optim.Adam(model_f.parameters(), lr=learning_rate)\n",
        "criterion = torch.nn.CrossEntropyLoss()\n",
        "\n",
        "# Train the model\n",
        "model_f.train()\n",
        "for epoch in range(epochs):\n",
        "    optimizer.zero_grad()\n",
        "    out = model_f(data.x, data.edge_index)\n",
        "    loss = criterion(out, data.y)\n",
        "    loss.backward()\n",
        "    optimizer.step()\n",
        "\n",
        "    if epoch % 50 == 0:\n",
        "        print(f\"Epoch {epoch}, Loss: {loss.item():.4f}\")\n",
        "\n",
        "# Evaluation\n",
        "model_f.eval()\n",
        "_, pred = model_f(data.x, data.edge_index).max(dim=1)\n",
        "correct = float(pred.eq(data.y).sum().item())\n",
        "acc = correct / len(data.y)\n",
        "print(f\"Accuracy: {acc:.4f}\")\n"
      ],
      "metadata": {
        "id": "ty_kReOf_gCE"
      },
      "execution_count": null,
      "outputs": []
    },
    {
      "cell_type": "markdown",
      "source": [
        "#Ensemble Modeling"
      ],
      "metadata": {
        "id": "9DFCSDrS_TBf"
      }
    },
    {
      "cell_type": "code",
      "source": [
        "df = pd.merge(train_categorical, train_solutions, on='participant_id')\n",
        "participant_ids = df['participant_id']\n",
        "\n",
        "df.fillna({'PreInt_Demos_Fam_Child_Ethnicity': 3}, inplace=True)\n",
        "df.fillna({'PreInt_Demos_Fam_Child_Race': 10}, inplace=True)\n",
        "df.dropna(subset=['MRI_Track_Scan_Location', 'Barratt_Barratt_P1_Edu', 'Barratt_Barratt_P1_Occ', 'Barratt_Barratt_P2_Edu', 'Barratt_Barratt_P2_Occ'  ], inplace=True)\n",
        "\n",
        "X = df.drop(columns=['Sex_F', 'participant_id'])\n",
        "y = df['Sex_F']\n",
        "\n",
        "X_train, X_test, y_train, y_test = train_test_split(X, y, test_size=0.2, random_state=42)\n",
        "\n",
        "rus = RandomUnderSampler(sampling_strategy=\"auto\", random_state=42)\n",
        "X_train_resampled, y_train_resampled = rus.fit_resample(X_train, y_train)\n",
        "\n",
        "X_train_ADHD = X_train_resampled.drop(columns=['ADHD_Outcome'])\n",
        "y_train_ADHD = X_train_resampled['ADHD_Outcome']\n",
        "x_test_ADHD = X_test.drop(columns=['ADHD_Outcome'])\n",
        "y_test_ADHD = X_test['ADHD_Outcome']"
      ],
      "metadata": {
        "id": "tBn56P3uBThg"
      },
      "execution_count": null,
      "outputs": []
    },
    {
      "cell_type": "code",
      "source": [
        "X = df.drop(columns=['Sex_F', 'ADHD_Outcome', 'participant_id']) #drop ADHD\n",
        "y = df['Sex_F']\n",
        "\n",
        "X_train, X_test_cat_female, y_train, y_test = train_test_split(X, y, test_size=0.2, random_state=42)\n",
        "\n",
        "smote = SMOTE(sampling_strategy=\"auto\", random_state=42)\n",
        "X_train_resampled_female, y_train_resampled = smote.fit_resample(X_train, y_train)"
      ],
      "metadata": {
        "id": "1tXNaBeVBhe1"
      },
      "execution_count": null,
      "outputs": []
    },
    {
      "cell_type": "code",
      "source": [
        "train_data = pd.merge(train_quantitative, train_solutions, on='participant_id')\n",
        "train_data.fillna({'EHQ_EHQ_Total':train_data['EHQ_EHQ_Total'].mean()}, inplace = True)\n",
        "train_data.fillna({'ColorVision_CV_Score':train_data['ColorVision_CV_Score'].mean()}, inplace = True)\n",
        "train_data.fillna({'APQ_P_APQ_P_CP':train_data['APQ_P_APQ_P_CP'].mean()}, inplace = True)\n",
        "train_data.fillna({'APQ_P_APQ_P_ID':train_data['APQ_P_APQ_P_ID'].mean()}, inplace = True)\n",
        "train_data.fillna({'APQ_P_APQ_P_INV':train_data['APQ_P_APQ_P_INV'].mean()}, inplace = True)\n",
        "train_data.fillna({'APQ_P_APQ_P_OPD':train_data['APQ_P_APQ_P_OPD'].mean()}, inplace = True)\n",
        "train_data.fillna({'APQ_P_APQ_P_PM':train_data['APQ_P_APQ_P_PM'].mean()}, inplace = True)\n",
        "train_data.fillna({'APQ_P_APQ_P_PP':train_data['APQ_P_APQ_P_PP'].mean()}, inplace = True)\n",
        "\n",
        "train_data.fillna({'SDQ_SDQ_Conduct_Problems':train_data['SDQ_SDQ_Conduct_Problems'].mean()}, inplace = True)\n",
        "train_data.fillna({'SDQ_SDQ_Difficulties_Total':train_data['SDQ_SDQ_Difficulties_Total'].mean()}, inplace = True)\n",
        "train_data.fillna({'SDQ_SDQ_Emotional_Problems':train_data['SDQ_SDQ_Emotional_Problems'].mean()}, inplace = True)\n",
        "train_data.fillna({'SDQ_SDQ_Externalizing':train_data['SDQ_SDQ_Externalizing'].mean()}, inplace = True)\n",
        "train_data.fillna({'SDQ_SDQ_Generating_Impact':train_data['SDQ_SDQ_Generating_Impact'].mean()}, inplace = True)\n",
        "train_data.fillna({'SDQ_SDQ_Hyperactivity':train_data['SDQ_SDQ_Hyperactivity'].mean()}, inplace = True)\n",
        "train_data.fillna({'SDQ_SDQ_Internalizing':train_data['SDQ_SDQ_Internalizing'].mean()}, inplace = True)\n",
        "train_data.fillna({'SDQ_SDQ_Peer_Problems':train_data['SDQ_SDQ_Peer_Problems'].mean()}, inplace = True)\n",
        "train_data.fillna({'SDQ_SDQ_Prosocial':train_data['SDQ_SDQ_Prosocial'].mean()}, inplace = True)\n",
        "train_data.fillna({'MRI_Track_Age_at_Scan':train_data['MRI_Track_Age_at_Scan'].mean()}, inplace = True)\n",
        "\n",
        "X = train_data.drop(['participant_id', 'Sex_F', 'ADHD_Outcome', 'MRI_Track_Age_at_Scan'], axis=1)\n",
        "y = train_data['Sex_F']\n",
        "\n",
        "X_train_quant, X_test_quant, y_train, y_test = train_test_split(X, y, test_size=0.2, random_state=42)"
      ],
      "metadata": {
        "id": "DbpR69DzCCdw"
      },
      "execution_count": null,
      "outputs": []
    },
    {
      "cell_type": "code",
      "source": [
        "# Get base model predictions\n",
        "pred_ADHD_1 = gbdt_cat_ADHD.predict_proba(X_train_ADHD)[:, 1]  # Probability of ADHD\n",
        "pred_ADHD_2 = gbdt_quant_ADHD.predict_proba(X_train_quant)[:, 1]\n",
        "\n",
        "pred_gender_1 = gbdt_cat_female.predict_proba(X_train_resampled_female)[:, 1]  # Probability of being male or female\n",
        "pred_gender_2 = gbdt_quant_female.predict_proba(X_train_quant)[:, 1]\n",
        "\n",
        "# Stack predictions as new features\n",
        "meta_X_train_ADHD = np.column_stack((pred_ADHD_1, pred_ADHD_2[-534:]))\n",
        "meta_X_train_female = np.column_stack((pred_gender_1[:970], pred_gender_2)) #I HAD TO CUT OFF THE FIRST MODEL BC THEY HAD DIFFERENT SIZES BUT THERE HAS TO BE A BETTER SOLUTION\n",
        "\n",
        "# Define meta-targets\n",
        "meta_y_train_adhd = train_solutions['ADHD_Outcome']  # True ADHD labels\n",
        "meta_y_train_gender = train_solutions['Sex_F']  # True Gender labels\n"
      ],
      "metadata": {
        "colab": {
          "base_uri": "https://localhost:8080/"
        },
        "id": "645Lv5mgAIxM",
        "outputId": "8c87b81e-5924-4ef1-daa0-2359a268a2b9"
      },
      "execution_count": null,
      "outputs": [
        {
          "output_type": "stream",
          "name": "stderr",
          "text": [
            "/usr/local/lib/python3.11/dist-packages/sklearn/utils/validation.py:2732: UserWarning: X has feature names, but GradientBoostingClassifier was fitted without feature names\n",
            "  warnings.warn(\n",
            "/usr/local/lib/python3.11/dist-packages/sklearn/utils/validation.py:2732: UserWarning: X has feature names, but GradientBoostingClassifier was fitted without feature names\n",
            "  warnings.warn(\n"
          ]
        }
      ]
    },
    {
      "cell_type": "code",
      "source": [
        "print(meta_X_train_female.shape)\n",
        "print(meta_y_train_gender.shape)"
      ],
      "metadata": {
        "colab": {
          "base_uri": "https://localhost:8080/"
        },
        "id": "bWfaWkeF5xP2",
        "outputId": "b2cbb0f0-3542-44b5-9451-6927a386a924"
      },
      "execution_count": null,
      "outputs": [
        {
          "output_type": "stream",
          "name": "stdout",
          "text": [
            "(970, 2)\n",
            "(1213,)\n"
          ]
        }
      ]
    },
    {
      "cell_type": "code",
      "source": [
        "from sklearn.linear_model import LogisticRegression\n",
        "\n",
        "# Meta-model for ADHD\n",
        "meta_model_adhd = LogisticRegression()\n",
        "meta_model_adhd.fit(meta_X_train_ADHD, meta_y_train_adhd[-534:])\n",
        "\n",
        "# Meta-model for Gender\n",
        "meta_model_gender = LogisticRegression()\n",
        "meta_model_gender.fit(meta_X_train_female, meta_y_train_gender[:970])"
      ],
      "metadata": {
        "colab": {
          "base_uri": "https://localhost:8080/",
          "height": 80
        },
        "id": "Foipk0yuA5cE",
        "outputId": "704edf9c-8e60-4f33-de83-8b0b90ed77d6"
      },
      "execution_count": null,
      "outputs": [
        {
          "output_type": "execute_result",
          "data": {
            "text/plain": [
              "LogisticRegression()"
            ],
            "text/html": [
              "<style>#sk-container-id-1 {\n",
              "  /* Definition of color scheme common for light and dark mode */\n",
              "  --sklearn-color-text: #000;\n",
              "  --sklearn-color-text-muted: #666;\n",
              "  --sklearn-color-line: gray;\n",
              "  /* Definition of color scheme for unfitted estimators */\n",
              "  --sklearn-color-unfitted-level-0: #fff5e6;\n",
              "  --sklearn-color-unfitted-level-1: #f6e4d2;\n",
              "  --sklearn-color-unfitted-level-2: #ffe0b3;\n",
              "  --sklearn-color-unfitted-level-3: chocolate;\n",
              "  /* Definition of color scheme for fitted estimators */\n",
              "  --sklearn-color-fitted-level-0: #f0f8ff;\n",
              "  --sklearn-color-fitted-level-1: #d4ebff;\n",
              "  --sklearn-color-fitted-level-2: #b3dbfd;\n",
              "  --sklearn-color-fitted-level-3: cornflowerblue;\n",
              "\n",
              "  /* Specific color for light theme */\n",
              "  --sklearn-color-text-on-default-background: var(--sg-text-color, var(--theme-code-foreground, var(--jp-content-font-color1, black)));\n",
              "  --sklearn-color-background: var(--sg-background-color, var(--theme-background, var(--jp-layout-color0, white)));\n",
              "  --sklearn-color-border-box: var(--sg-text-color, var(--theme-code-foreground, var(--jp-content-font-color1, black)));\n",
              "  --sklearn-color-icon: #696969;\n",
              "\n",
              "  @media (prefers-color-scheme: dark) {\n",
              "    /* Redefinition of color scheme for dark theme */\n",
              "    --sklearn-color-text-on-default-background: var(--sg-text-color, var(--theme-code-foreground, var(--jp-content-font-color1, white)));\n",
              "    --sklearn-color-background: var(--sg-background-color, var(--theme-background, var(--jp-layout-color0, #111)));\n",
              "    --sklearn-color-border-box: var(--sg-text-color, var(--theme-code-foreground, var(--jp-content-font-color1, white)));\n",
              "    --sklearn-color-icon: #878787;\n",
              "  }\n",
              "}\n",
              "\n",
              "#sk-container-id-1 {\n",
              "  color: var(--sklearn-color-text);\n",
              "}\n",
              "\n",
              "#sk-container-id-1 pre {\n",
              "  padding: 0;\n",
              "}\n",
              "\n",
              "#sk-container-id-1 input.sk-hidden--visually {\n",
              "  border: 0;\n",
              "  clip: rect(1px 1px 1px 1px);\n",
              "  clip: rect(1px, 1px, 1px, 1px);\n",
              "  height: 1px;\n",
              "  margin: -1px;\n",
              "  overflow: hidden;\n",
              "  padding: 0;\n",
              "  position: absolute;\n",
              "  width: 1px;\n",
              "}\n",
              "\n",
              "#sk-container-id-1 div.sk-dashed-wrapped {\n",
              "  border: 1px dashed var(--sklearn-color-line);\n",
              "  margin: 0 0.4em 0.5em 0.4em;\n",
              "  box-sizing: border-box;\n",
              "  padding-bottom: 0.4em;\n",
              "  background-color: var(--sklearn-color-background);\n",
              "}\n",
              "\n",
              "#sk-container-id-1 div.sk-container {\n",
              "  /* jupyter's `normalize.less` sets `[hidden] { display: none; }`\n",
              "     but bootstrap.min.css set `[hidden] { display: none !important; }`\n",
              "     so we also need the `!important` here to be able to override the\n",
              "     default hidden behavior on the sphinx rendered scikit-learn.org.\n",
              "     See: https://github.com/scikit-learn/scikit-learn/issues/21755 */\n",
              "  display: inline-block !important;\n",
              "  position: relative;\n",
              "}\n",
              "\n",
              "#sk-container-id-1 div.sk-text-repr-fallback {\n",
              "  display: none;\n",
              "}\n",
              "\n",
              "div.sk-parallel-item,\n",
              "div.sk-serial,\n",
              "div.sk-item {\n",
              "  /* draw centered vertical line to link estimators */\n",
              "  background-image: linear-gradient(var(--sklearn-color-text-on-default-background), var(--sklearn-color-text-on-default-background));\n",
              "  background-size: 2px 100%;\n",
              "  background-repeat: no-repeat;\n",
              "  background-position: center center;\n",
              "}\n",
              "\n",
              "/* Parallel-specific style estimator block */\n",
              "\n",
              "#sk-container-id-1 div.sk-parallel-item::after {\n",
              "  content: \"\";\n",
              "  width: 100%;\n",
              "  border-bottom: 2px solid var(--sklearn-color-text-on-default-background);\n",
              "  flex-grow: 1;\n",
              "}\n",
              "\n",
              "#sk-container-id-1 div.sk-parallel {\n",
              "  display: flex;\n",
              "  align-items: stretch;\n",
              "  justify-content: center;\n",
              "  background-color: var(--sklearn-color-background);\n",
              "  position: relative;\n",
              "}\n",
              "\n",
              "#sk-container-id-1 div.sk-parallel-item {\n",
              "  display: flex;\n",
              "  flex-direction: column;\n",
              "}\n",
              "\n",
              "#sk-container-id-1 div.sk-parallel-item:first-child::after {\n",
              "  align-self: flex-end;\n",
              "  width: 50%;\n",
              "}\n",
              "\n",
              "#sk-container-id-1 div.sk-parallel-item:last-child::after {\n",
              "  align-self: flex-start;\n",
              "  width: 50%;\n",
              "}\n",
              "\n",
              "#sk-container-id-1 div.sk-parallel-item:only-child::after {\n",
              "  width: 0;\n",
              "}\n",
              "\n",
              "/* Serial-specific style estimator block */\n",
              "\n",
              "#sk-container-id-1 div.sk-serial {\n",
              "  display: flex;\n",
              "  flex-direction: column;\n",
              "  align-items: center;\n",
              "  background-color: var(--sklearn-color-background);\n",
              "  padding-right: 1em;\n",
              "  padding-left: 1em;\n",
              "}\n",
              "\n",
              "\n",
              "/* Toggleable style: style used for estimator/Pipeline/ColumnTransformer box that is\n",
              "clickable and can be expanded/collapsed.\n",
              "- Pipeline and ColumnTransformer use this feature and define the default style\n",
              "- Estimators will overwrite some part of the style using the `sk-estimator` class\n",
              "*/\n",
              "\n",
              "/* Pipeline and ColumnTransformer style (default) */\n",
              "\n",
              "#sk-container-id-1 div.sk-toggleable {\n",
              "  /* Default theme specific background. It is overwritten whether we have a\n",
              "  specific estimator or a Pipeline/ColumnTransformer */\n",
              "  background-color: var(--sklearn-color-background);\n",
              "}\n",
              "\n",
              "/* Toggleable label */\n",
              "#sk-container-id-1 label.sk-toggleable__label {\n",
              "  cursor: pointer;\n",
              "  display: flex;\n",
              "  width: 100%;\n",
              "  margin-bottom: 0;\n",
              "  padding: 0.5em;\n",
              "  box-sizing: border-box;\n",
              "  text-align: center;\n",
              "  align-items: start;\n",
              "  justify-content: space-between;\n",
              "  gap: 0.5em;\n",
              "}\n",
              "\n",
              "#sk-container-id-1 label.sk-toggleable__label .caption {\n",
              "  font-size: 0.6rem;\n",
              "  font-weight: lighter;\n",
              "  color: var(--sklearn-color-text-muted);\n",
              "}\n",
              "\n",
              "#sk-container-id-1 label.sk-toggleable__label-arrow:before {\n",
              "  /* Arrow on the left of the label */\n",
              "  content: \"▸\";\n",
              "  float: left;\n",
              "  margin-right: 0.25em;\n",
              "  color: var(--sklearn-color-icon);\n",
              "}\n",
              "\n",
              "#sk-container-id-1 label.sk-toggleable__label-arrow:hover:before {\n",
              "  color: var(--sklearn-color-text);\n",
              "}\n",
              "\n",
              "/* Toggleable content - dropdown */\n",
              "\n",
              "#sk-container-id-1 div.sk-toggleable__content {\n",
              "  max-height: 0;\n",
              "  max-width: 0;\n",
              "  overflow: hidden;\n",
              "  text-align: left;\n",
              "  /* unfitted */\n",
              "  background-color: var(--sklearn-color-unfitted-level-0);\n",
              "}\n",
              "\n",
              "#sk-container-id-1 div.sk-toggleable__content.fitted {\n",
              "  /* fitted */\n",
              "  background-color: var(--sklearn-color-fitted-level-0);\n",
              "}\n",
              "\n",
              "#sk-container-id-1 div.sk-toggleable__content pre {\n",
              "  margin: 0.2em;\n",
              "  border-radius: 0.25em;\n",
              "  color: var(--sklearn-color-text);\n",
              "  /* unfitted */\n",
              "  background-color: var(--sklearn-color-unfitted-level-0);\n",
              "}\n",
              "\n",
              "#sk-container-id-1 div.sk-toggleable__content.fitted pre {\n",
              "  /* unfitted */\n",
              "  background-color: var(--sklearn-color-fitted-level-0);\n",
              "}\n",
              "\n",
              "#sk-container-id-1 input.sk-toggleable__control:checked~div.sk-toggleable__content {\n",
              "  /* Expand drop-down */\n",
              "  max-height: 200px;\n",
              "  max-width: 100%;\n",
              "  overflow: auto;\n",
              "}\n",
              "\n",
              "#sk-container-id-1 input.sk-toggleable__control:checked~label.sk-toggleable__label-arrow:before {\n",
              "  content: \"▾\";\n",
              "}\n",
              "\n",
              "/* Pipeline/ColumnTransformer-specific style */\n",
              "\n",
              "#sk-container-id-1 div.sk-label input.sk-toggleable__control:checked~label.sk-toggleable__label {\n",
              "  color: var(--sklearn-color-text);\n",
              "  background-color: var(--sklearn-color-unfitted-level-2);\n",
              "}\n",
              "\n",
              "#sk-container-id-1 div.sk-label.fitted input.sk-toggleable__control:checked~label.sk-toggleable__label {\n",
              "  background-color: var(--sklearn-color-fitted-level-2);\n",
              "}\n",
              "\n",
              "/* Estimator-specific style */\n",
              "\n",
              "/* Colorize estimator box */\n",
              "#sk-container-id-1 div.sk-estimator input.sk-toggleable__control:checked~label.sk-toggleable__label {\n",
              "  /* unfitted */\n",
              "  background-color: var(--sklearn-color-unfitted-level-2);\n",
              "}\n",
              "\n",
              "#sk-container-id-1 div.sk-estimator.fitted input.sk-toggleable__control:checked~label.sk-toggleable__label {\n",
              "  /* fitted */\n",
              "  background-color: var(--sklearn-color-fitted-level-2);\n",
              "}\n",
              "\n",
              "#sk-container-id-1 div.sk-label label.sk-toggleable__label,\n",
              "#sk-container-id-1 div.sk-label label {\n",
              "  /* The background is the default theme color */\n",
              "  color: var(--sklearn-color-text-on-default-background);\n",
              "}\n",
              "\n",
              "/* On hover, darken the color of the background */\n",
              "#sk-container-id-1 div.sk-label:hover label.sk-toggleable__label {\n",
              "  color: var(--sklearn-color-text);\n",
              "  background-color: var(--sklearn-color-unfitted-level-2);\n",
              "}\n",
              "\n",
              "/* Label box, darken color on hover, fitted */\n",
              "#sk-container-id-1 div.sk-label.fitted:hover label.sk-toggleable__label.fitted {\n",
              "  color: var(--sklearn-color-text);\n",
              "  background-color: var(--sklearn-color-fitted-level-2);\n",
              "}\n",
              "\n",
              "/* Estimator label */\n",
              "\n",
              "#sk-container-id-1 div.sk-label label {\n",
              "  font-family: monospace;\n",
              "  font-weight: bold;\n",
              "  display: inline-block;\n",
              "  line-height: 1.2em;\n",
              "}\n",
              "\n",
              "#sk-container-id-1 div.sk-label-container {\n",
              "  text-align: center;\n",
              "}\n",
              "\n",
              "/* Estimator-specific */\n",
              "#sk-container-id-1 div.sk-estimator {\n",
              "  font-family: monospace;\n",
              "  border: 1px dotted var(--sklearn-color-border-box);\n",
              "  border-radius: 0.25em;\n",
              "  box-sizing: border-box;\n",
              "  margin-bottom: 0.5em;\n",
              "  /* unfitted */\n",
              "  background-color: var(--sklearn-color-unfitted-level-0);\n",
              "}\n",
              "\n",
              "#sk-container-id-1 div.sk-estimator.fitted {\n",
              "  /* fitted */\n",
              "  background-color: var(--sklearn-color-fitted-level-0);\n",
              "}\n",
              "\n",
              "/* on hover */\n",
              "#sk-container-id-1 div.sk-estimator:hover {\n",
              "  /* unfitted */\n",
              "  background-color: var(--sklearn-color-unfitted-level-2);\n",
              "}\n",
              "\n",
              "#sk-container-id-1 div.sk-estimator.fitted:hover {\n",
              "  /* fitted */\n",
              "  background-color: var(--sklearn-color-fitted-level-2);\n",
              "}\n",
              "\n",
              "/* Specification for estimator info (e.g. \"i\" and \"?\") */\n",
              "\n",
              "/* Common style for \"i\" and \"?\" */\n",
              "\n",
              ".sk-estimator-doc-link,\n",
              "a:link.sk-estimator-doc-link,\n",
              "a:visited.sk-estimator-doc-link {\n",
              "  float: right;\n",
              "  font-size: smaller;\n",
              "  line-height: 1em;\n",
              "  font-family: monospace;\n",
              "  background-color: var(--sklearn-color-background);\n",
              "  border-radius: 1em;\n",
              "  height: 1em;\n",
              "  width: 1em;\n",
              "  text-decoration: none !important;\n",
              "  margin-left: 0.5em;\n",
              "  text-align: center;\n",
              "  /* unfitted */\n",
              "  border: var(--sklearn-color-unfitted-level-1) 1pt solid;\n",
              "  color: var(--sklearn-color-unfitted-level-1);\n",
              "}\n",
              "\n",
              ".sk-estimator-doc-link.fitted,\n",
              "a:link.sk-estimator-doc-link.fitted,\n",
              "a:visited.sk-estimator-doc-link.fitted {\n",
              "  /* fitted */\n",
              "  border: var(--sklearn-color-fitted-level-1) 1pt solid;\n",
              "  color: var(--sklearn-color-fitted-level-1);\n",
              "}\n",
              "\n",
              "/* On hover */\n",
              "div.sk-estimator:hover .sk-estimator-doc-link:hover,\n",
              ".sk-estimator-doc-link:hover,\n",
              "div.sk-label-container:hover .sk-estimator-doc-link:hover,\n",
              ".sk-estimator-doc-link:hover {\n",
              "  /* unfitted */\n",
              "  background-color: var(--sklearn-color-unfitted-level-3);\n",
              "  color: var(--sklearn-color-background);\n",
              "  text-decoration: none;\n",
              "}\n",
              "\n",
              "div.sk-estimator.fitted:hover .sk-estimator-doc-link.fitted:hover,\n",
              ".sk-estimator-doc-link.fitted:hover,\n",
              "div.sk-label-container:hover .sk-estimator-doc-link.fitted:hover,\n",
              ".sk-estimator-doc-link.fitted:hover {\n",
              "  /* fitted */\n",
              "  background-color: var(--sklearn-color-fitted-level-3);\n",
              "  color: var(--sklearn-color-background);\n",
              "  text-decoration: none;\n",
              "}\n",
              "\n",
              "/* Span, style for the box shown on hovering the info icon */\n",
              ".sk-estimator-doc-link span {\n",
              "  display: none;\n",
              "  z-index: 9999;\n",
              "  position: relative;\n",
              "  font-weight: normal;\n",
              "  right: .2ex;\n",
              "  padding: .5ex;\n",
              "  margin: .5ex;\n",
              "  width: min-content;\n",
              "  min-width: 20ex;\n",
              "  max-width: 50ex;\n",
              "  color: var(--sklearn-color-text);\n",
              "  box-shadow: 2pt 2pt 4pt #999;\n",
              "  /* unfitted */\n",
              "  background: var(--sklearn-color-unfitted-level-0);\n",
              "  border: .5pt solid var(--sklearn-color-unfitted-level-3);\n",
              "}\n",
              "\n",
              ".sk-estimator-doc-link.fitted span {\n",
              "  /* fitted */\n",
              "  background: var(--sklearn-color-fitted-level-0);\n",
              "  border: var(--sklearn-color-fitted-level-3);\n",
              "}\n",
              "\n",
              ".sk-estimator-doc-link:hover span {\n",
              "  display: block;\n",
              "}\n",
              "\n",
              "/* \"?\"-specific style due to the `<a>` HTML tag */\n",
              "\n",
              "#sk-container-id-1 a.estimator_doc_link {\n",
              "  float: right;\n",
              "  font-size: 1rem;\n",
              "  line-height: 1em;\n",
              "  font-family: monospace;\n",
              "  background-color: var(--sklearn-color-background);\n",
              "  border-radius: 1rem;\n",
              "  height: 1rem;\n",
              "  width: 1rem;\n",
              "  text-decoration: none;\n",
              "  /* unfitted */\n",
              "  color: var(--sklearn-color-unfitted-level-1);\n",
              "  border: var(--sklearn-color-unfitted-level-1) 1pt solid;\n",
              "}\n",
              "\n",
              "#sk-container-id-1 a.estimator_doc_link.fitted {\n",
              "  /* fitted */\n",
              "  border: var(--sklearn-color-fitted-level-1) 1pt solid;\n",
              "  color: var(--sklearn-color-fitted-level-1);\n",
              "}\n",
              "\n",
              "/* On hover */\n",
              "#sk-container-id-1 a.estimator_doc_link:hover {\n",
              "  /* unfitted */\n",
              "  background-color: var(--sklearn-color-unfitted-level-3);\n",
              "  color: var(--sklearn-color-background);\n",
              "  text-decoration: none;\n",
              "}\n",
              "\n",
              "#sk-container-id-1 a.estimator_doc_link.fitted:hover {\n",
              "  /* fitted */\n",
              "  background-color: var(--sklearn-color-fitted-level-3);\n",
              "}\n",
              "</style><div id=\"sk-container-id-1\" class=\"sk-top-container\"><div class=\"sk-text-repr-fallback\"><pre>LogisticRegression()</pre><b>In a Jupyter environment, please rerun this cell to show the HTML representation or trust the notebook. <br />On GitHub, the HTML representation is unable to render, please try loading this page with nbviewer.org.</b></div><div class=\"sk-container\" hidden><div class=\"sk-item\"><div class=\"sk-estimator fitted sk-toggleable\"><input class=\"sk-toggleable__control sk-hidden--visually\" id=\"sk-estimator-id-1\" type=\"checkbox\" checked><label for=\"sk-estimator-id-1\" class=\"sk-toggleable__label fitted sk-toggleable__label-arrow\"><div><div>LogisticRegression</div></div><div><a class=\"sk-estimator-doc-link fitted\" rel=\"noreferrer\" target=\"_blank\" href=\"https://scikit-learn.org/1.6/modules/generated/sklearn.linear_model.LogisticRegression.html\">?<span>Documentation for LogisticRegression</span></a><span class=\"sk-estimator-doc-link fitted\">i<span>Fitted</span></span></div></label><div class=\"sk-toggleable__content fitted\"><pre>LogisticRegression()</pre></div> </div></div></div></div>"
            ]
          },
          "metadata": {},
          "execution_count": 53
        }
      ]
    },
    {
      "cell_type": "code",
      "source": [
        "# Get base model predictions on test data\n",
        "pred_adhd_1_test = gbdt_cat_ADHD.predict_proba(x_test_ADHD)[:, 1]\n",
        "pred_adhd_2_test = gbdt_quant_ADHD.predict_proba(X_test_quant)[:, 1]\n",
        "\n",
        "pred_gender_1_test = gbdt_cat_female.predict_proba(X_test_cat_female)[:, 1]\n",
        "pred_gender_2_test = gbdt_quant_female.predict_proba(X_test_quant)[:, 1]\n",
        "\n",
        "# Stack predictions as new features\n",
        "meta_X_test_ADHD = np.column_stack((pred_adhd_1_test, pred_adhd_2_test[:194]))\n",
        "meta_X_test_gender = np.column_stack((pred_gender_1_test, pred_gender_2_test[:194]))\n",
        "\n",
        "\n",
        "# Meta-model predictions\n",
        "final_pred_adhd = meta_model_adhd.predict(meta_X_test_ADHD)\n",
        "final_pred_gender = meta_model_gender.predict(meta_X_test_gender)"
      ],
      "metadata": {
        "colab": {
          "base_uri": "https://localhost:8080/"
        },
        "id": "m7PtuFXeF51t",
        "outputId": "f5c54f79-41f8-475d-c605-a2cb959a60a1"
      },
      "execution_count": null,
      "outputs": [
        {
          "output_type": "stream",
          "name": "stderr",
          "text": [
            "/usr/local/lib/python3.11/dist-packages/sklearn/utils/validation.py:2732: UserWarning: X has feature names, but GradientBoostingClassifier was fitted without feature names\n",
            "  warnings.warn(\n",
            "/usr/local/lib/python3.11/dist-packages/sklearn/utils/validation.py:2732: UserWarning: X has feature names, but GradientBoostingClassifier was fitted without feature names\n",
            "  warnings.warn(\n"
          ]
        }
      ]
    },
    {
      "cell_type": "code",
      "source": [
        "# Accuracy for ADHD prediction\n",
        "accuracy_adhd = accuracy_score(y_test_ADHD, final_pred_adhd)\n",
        "print(f\"Accuracy for ADHD prediction: {accuracy_adhd}\")\n",
        "\n",
        "# F1 Score for ADHD prediction\n",
        "f1_adhd = f1_score(y_test_ADHD, final_pred_adhd, average='weighted')\n",
        "print(f\"F1 Score for ADHD prediction: {f1_adhd}\")\n",
        "\n",
        "# Accuracy for Gender prediction\n",
        "accuracy_gender = accuracy_score(y_test[:194], final_pred_gender)\n",
        "print(f\"Accuracy for Gender prediction: {accuracy_gender}\")\n",
        "\n",
        "# F1 Score for Gender prediction\n",
        "f1_gender = f1_score(y_test[:194], final_pred_gender, average='weighted')\n",
        "print(f\"F1 Score for Gender prediction: {f1_gender}\")"
      ],
      "metadata": {
        "colab": {
          "base_uri": "https://localhost:8080/"
        },
        "id": "wDC8mevkIVNR",
        "outputId": "cfb60538-6a49-4336-f0c9-7512ac622df9"
      },
      "execution_count": null,
      "outputs": [
        {
          "output_type": "stream",
          "name": "stdout",
          "text": [
            "Accuracy for ADHD prediction: 0.30927835051546393\n",
            "F1 Score for ADHD prediction: 0.14611575614903807\n",
            "Accuracy for Gender prediction: 0.7010309278350515\n",
            "F1 Score for Gender prediction: 0.5778194314276789\n"
          ]
        }
      ]
    },
    {
      "cell_type": "code",
      "source": [
        "test_categorical = pd.read_excel(\"/content/TEST_CATEGORICAL.xlsx\")\n",
        "test_quantitative = pd.read_excel(\"/content/TEST_QUANTITATIVE_METADATA.xlsx\")"
      ],
      "metadata": {
        "id": "U6qcgDFEKAhd"
      },
      "execution_count": null,
      "outputs": []
    },
    {
      "cell_type": "code",
      "source": [
        "X_test_final_quant = test_quantitative.drop(['participant_id', 'MRI_Track_Age_at_Scan'], axis=1)\n",
        "X_test_final_quant = X_test_final_quant.apply(lambda col: col.fillna(col.mean()), axis=0)"
      ],
      "metadata": {
        "id": "KwK-EV8jK2Oe"
      },
      "execution_count": null,
      "outputs": []
    },
    {
      "cell_type": "code",
      "source": [
        "X_test_final_cat = test_categorical.drop(['participant_id'], axis=1)\n",
        "X_test_final_cat = X_test_final_cat.apply(lambda col: col.fillna(col.mode()[0]), axis=0)"
      ],
      "metadata": {
        "id": "KpIFDroNLPR9"
      },
      "execution_count": null,
      "outputs": []
    },
    {
      "cell_type": "code",
      "source": [
        "# Get base model predictions on test data\n",
        "pred_adhd_1_test = gbdt_cat_ADHD.predict_proba(X_test_final_cat)[:, 1]\n",
        "pred_adhd_2_test = gbdt_quant_ADHD.predict_proba(X_test_final_quant)[:, 1]\n",
        "\n",
        "pred_gender_1_test = gbdt_cat_female.predict_proba(X_test_final_cat)[:, 1]\n",
        "pred_gender_2_test = gbdt_quant_female.predict_proba(X_test_final_quant)[:, 1]\n",
        "\n",
        "# Stack predictions as new features\n",
        "meta_X_test_ADHD = np.column_stack((pred_adhd_1_test, pred_adhd_2_test))\n",
        "meta_X_test_gender = np.column_stack((pred_gender_1_test, pred_gender_2_test))\n",
        "\n",
        "# Meta-model predictions\n",
        "final_pred_adhd = meta_model_adhd.predict(meta_X_test_ADHD)\n",
        "final_pred_gender = meta_model_gender.predict(meta_X_test_gender)"
      ],
      "metadata": {
        "colab": {
          "base_uri": "https://localhost:8080/"
        },
        "id": "RQfS-xmNLFh7",
        "outputId": "f3cbca47-04c8-4d26-9737-44c971f3a354"
      },
      "execution_count": null,
      "outputs": [
        {
          "output_type": "stream",
          "name": "stderr",
          "text": [
            "/usr/local/lib/python3.11/dist-packages/sklearn/utils/validation.py:2732: UserWarning: X has feature names, but GradientBoostingClassifier was fitted without feature names\n",
            "  warnings.warn(\n",
            "/usr/local/lib/python3.11/dist-packages/sklearn/utils/validation.py:2732: UserWarning: X has feature names, but GradientBoostingClassifier was fitted without feature names\n",
            "  warnings.warn(\n"
          ]
        }
      ]
    },
    {
      "cell_type": "code",
      "source": [
        "print(y_test.shape)\n",
        "print(final_pred_gender.shape)"
      ],
      "metadata": {
        "colab": {
          "base_uri": "https://localhost:8080/"
        },
        "id": "_RQ5LFxD7aB0",
        "outputId": "35c3b65c-2574-4b10-88a5-36710880d644"
      },
      "execution_count": null,
      "outputs": [
        {
          "output_type": "stream",
          "name": "stdout",
          "text": [
            "(243,)\n",
            "(304,)\n"
          ]
        }
      ]
    },
    {
      "cell_type": "code",
      "source": [
        "# Accuracy for ADHD prediction\n",
        "accuracy_adhd = accuracy_score(y_test_ADHD, final_pred_adhd[:194])\n",
        "print(f\"Accuracy for ADHD prediction: {accuracy_adhd}\")\n",
        "\n",
        "# F1 Score for ADHD prediction\n",
        "f1_adhd = f1_score(y_test_ADHD, final_pred_adhd[:194], average='weighted')\n",
        "print(f\"F1 Score for ADHD prediction: {f1_adhd}\")\n",
        "\n",
        "# Accuracy for Gender prediction\n",
        "accuracy_gender = accuracy_score(y_test, final_pred_gender[:243])\n",
        "print(f\"Accuracy for Gender prediction: {accuracy_gender}\")\n",
        "\n",
        "# F1 Score for Gender prediction\n",
        "f1_gender = f1_score(y_test, final_pred_gender[:243], average='weighted')\n",
        "print(f\"F1 Score for Gender prediction: {f1_gender}\")"
      ],
      "metadata": {
        "colab": {
          "base_uri": "https://localhost:8080/"
        },
        "id": "uu1t7ECkNaJR",
        "outputId": "2e27f730-ae0c-4704-a146-10fbe21ddb04"
      },
      "execution_count": null,
      "outputs": [
        {
          "output_type": "stream",
          "name": "stdout",
          "text": [
            "Accuracy for ADHD prediction: 0.30927835051546393\n",
            "F1 Score for ADHD prediction: 0.14611575614903807\n",
            "Accuracy for Gender prediction: 0.691358024691358\n",
            "F1 Score for Gender prediction: 0.5651978012075335\n"
          ]
        }
      ]
    },
    {
      "cell_type": "code",
      "source": [
        "participant_ids = test_quantitative['participant_id']\n",
        "\n",
        "# Create a dictionary to hold the data\n",
        "data = {\n",
        "    'participant_id': participant_ids,\n",
        "    'ADHD_Outcome': final_pred_adhd,\n",
        "    'Sex_F': final_pred_gender\n",
        "}\n",
        "\n",
        "# Create a Pandas DataFrame\n",
        "df = pd.DataFrame(data)\n",
        "\n",
        "# Save the DataFrame to a CSV file\n",
        "df.to_csv('predictions.csv', index=False)\n",
        "\n",
        "# Print the first few rows to verify (optional)\n",
        "print(df.head(30))\n"
      ],
      "metadata": {
        "colab": {
          "base_uri": "https://localhost:8080/"
        },
        "id": "Th-NQwfBJYOA",
        "outputId": "f2a691c7-c4bf-4658-8536-6b0456543733"
      },
      "execution_count": null,
      "outputs": [
        {
          "output_type": "stream",
          "name": "stdout",
          "text": [
            "   participant_id  ADHD_Outcome  Sex_F\n",
            "0    Cfwaf5FX7jWK             0      0\n",
            "1    vhGrzmvA3Hjq             0      0\n",
            "2    ULliyEXjy4OV             0      0\n",
            "3    LZfeAb1xMtql             0      0\n",
            "4    EnFOUv0YK1RG             0      0\n",
            "5    3VbkvJ22j9Fu             0      0\n",
            "6    PRKZcnOgqcuk             0      0\n",
            "7    DuVUuyMZi5qV             0      0\n",
            "8    uM4etVLZrgMg             0      0\n",
            "9    BpzyExrET5ta             0      0\n",
            "10   sAqeb6F4lz97             0      0\n",
            "11   u7XOOvHirIx7             0      0\n",
            "12   aEPm4bEQvbYi             0      0\n",
            "13   Fj9A5PWsIWKT             0      0\n",
            "14   19mb5yGJigtw             0      0\n",
            "15   v1nMpCoLGU0V             0      0\n",
            "16   hRPuz4zpsEbw             0      0\n",
            "17   mT8A6xa1O4Ro             0      0\n",
            "18   4QBTjDoVpVt6             0      0\n",
            "19   0X2H4LroxZcw             0      0\n",
            "20   9CH7UxXuznUa             0      0\n",
            "21   nU73zzjTnr4A             0      0\n",
            "22   uEZHGukIUQ0k             0      0\n",
            "23   jCzQwkpfgZyQ             0      0\n",
            "24   Ljvrs76QJuI5             0      0\n",
            "25   IbF3zW0Wbx4Q             0      0\n",
            "26   UHnGiDNksa0x             0      0\n",
            "27   yYjiJsx8PM48             0      0\n",
            "28   1j28gfEoCQ3o             0      0\n",
            "29   dC5XvD5A3tqo             0      0\n"
          ]
        }
      ]
    },
    {
      "cell_type": "markdown",
      "source": [
        "Predicting everything is 0 ?"
      ],
      "metadata": {
        "id": "pvYHnm5nOF06"
      }
    },
    {
      "cell_type": "markdown",
      "source": [
        "## Using only quant ADHD model and categorical gender model"
      ],
      "metadata": {
        "id": "6yWAYvyf99BZ"
      }
    },
    {
      "cell_type": "code",
      "source": [
        "from sklearn.model_selection import train_test_split\n",
        "\n",
        "tr_categorical = pd.read_excel(\"/content/TRAIN_CATEGORICAL_METADATA_new.xlsx\")\n",
        "tr_quantitative = pd.read_excel(\"/content/TRAIN_QUANTITATIVE_METADATA_new.xlsx\")\n",
        "y_tr = pd.read_excel(\"/content/TRAINING_SOLUTIONS.xlsx\")\n",
        "\n",
        "\n",
        "tr_quantitative = tr_quantitative.drop(['participant_id', 'MRI_Track_Age_at_Scan'], axis=1)\n",
        "tr_quantitative = tr_quantitative.apply(lambda col: col.fillna(col.mean()), axis=0)\n",
        "\n",
        "tr_categorical = tr_categorical.drop(['participant_id'], axis=1)\n",
        "tr_categorical = tr_categorical.apply(lambda col: col.fillna(col.mode()[0]), axis=0)\n",
        "\n",
        "# Split into training and test sets (80% train, 20% test)\n",
        "X_train_c, X_test_c, y_train_c, y_test_c = train_test_split(tr_categorical, y_tr, test_size=0.2, random_state=42)\n",
        "X_train_q, X_test_q, y_train_q, y_test_q = train_test_split(tr_quantitative, y_tr, test_size=0.2, random_state=42)\n",
        "\n",
        "# Print dataset sizes\n",
        "print(f\"Training set size: {X_train_c.shape}, {X_train_q.shape}\")\n",
        "print(f\"Test set size: {X_test_c.shape}, {X_test_q.shape}\")\n"
      ],
      "metadata": {
        "colab": {
          "base_uri": "https://localhost:8080/"
        },
        "id": "2CS_ppc1ALjg",
        "outputId": "01b7fead-d3c1-47d2-e77f-80ff85e088d3"
      },
      "execution_count": null,
      "outputs": [
        {
          "output_type": "stream",
          "name": "stdout",
          "text": [
            "Training set size: (970, 9), (970, 17)\n",
            "Test set size: (243, 9), (243, 17)\n"
          ]
        }
      ]
    },
    {
      "cell_type": "code",
      "source": [
        "tr_pred_adhd = gbdt_quant_ADHD.predict(X_train_q)\n",
        "tr_pred_gender = gbdt_cat_female.predict(X_train_c)\n",
        "\n",
        "# Accuracy for ADHD prediction\n",
        "accuracy_adhd = accuracy_score(y_train_q['ADHD_Outcome'], tr_pred_adhd)\n",
        "print(f\"Accuracy for ADHD prediction: {accuracy_adhd}\")\n",
        "\n",
        "# F1 Score for ADHD prediction\n",
        "f1_adhd = f1_score(y_train_q['ADHD_Outcome'], tr_pred_adhd, average='weighted')\n",
        "print(f\"F1 Score for ADHD prediction: {f1_adhd}\")\n",
        "\n",
        "# Accuracy for Gender prediction\n",
        "accuracy_gender = accuracy_score(y_train_c['Sex_F'], tr_pred_gender)\n",
        "print(f\"Accuracy for Gender prediction: {accuracy_gender}\")\n",
        "\n",
        "# F1 Score for Gender prediction\n",
        "f1_gender = f1_score(y_train_c['Sex_F'], tr_pred_gender, average='weighted')\n",
        "print(f\"F1 Score for Gender prediction: {f1_gender}\")"
      ],
      "metadata": {
        "colab": {
          "base_uri": "https://localhost:8080/"
        },
        "id": "yQ4msvgPAqNf",
        "outputId": "8ba69d1e-7609-4b77-ac5a-7e97d1d4b9fd"
      },
      "execution_count": null,
      "outputs": [
        {
          "output_type": "stream",
          "name": "stdout",
          "text": [
            "Accuracy for ADHD prediction: 0.6731958762886598\n",
            "F1 Score for ADHD prediction: 0.5417090661940788\n",
            "Accuracy for Gender prediction: 0.5484536082474227\n",
            "F1 Score for Gender prediction: 0.5381145190699501\n"
          ]
        },
        {
          "output_type": "stream",
          "name": "stderr",
          "text": [
            "/usr/local/lib/python3.11/dist-packages/sklearn/utils/validation.py:2732: UserWarning: X has feature names, but GradientBoostingClassifier was fitted without feature names\n",
            "  warnings.warn(\n"
          ]
        }
      ]
    },
    {
      "cell_type": "code",
      "source": [
        "#ON PARITIONED TEST DATA\n",
        "test_pred_adhd = gbdt_quant_ADHD.predict(X_test_q)\n",
        "test_pred_gender = gbdt_cat_female.predict(X_test_c)\n",
        "\n",
        "# Accuracy for ADHD prediction\n",
        "accuracy_adhd = accuracy_score(y_test_q['ADHD_Outcome'], test_pred_adhd)\n",
        "print(f\"Accuracy for ADHD prediction: {accuracy_adhd}\")\n",
        "\n",
        "# F1 Score for ADHD prediction\n",
        "f1_adhd = f1_score(y_test_q['ADHD_Outcome'], test_pred_adhd, average='weighted')\n",
        "print(f\"F1 Score for ADHD prediction: {f1_adhd}\")\n",
        "\n",
        "# Accuracy for Gender prediction\n",
        "accuracy_gender = accuracy_score(y_test_c['Sex_F'], test_pred_gender)\n",
        "print(f\"Accuracy for Gender prediction: {accuracy_gender}\")\n",
        "\n",
        "# F1 Score for Gender prediction\n",
        "f1_gender = f1_score(y_test_c['Sex_F'], test_pred_gender, average='weighted')\n",
        "print(f\"F1 Score for Gender prediction: {f1_gender}\")\n"
      ],
      "metadata": {
        "colab": {
          "base_uri": "https://localhost:8080/"
        },
        "id": "txaWC2Q2_u0E",
        "outputId": "aee7f7da-72b1-4ab6-8de5-b2a2b5fc9f3f"
      },
      "execution_count": null,
      "outputs": [
        {
          "output_type": "stream",
          "name": "stdout",
          "text": [
            "Accuracy for ADHD prediction: 0.7325102880658436\n",
            "F1 Score for ADHD prediction: 0.6194148754190982\n",
            "Accuracy for Gender prediction: 0.6419753086419753\n",
            "F1 Score for Gender prediction: 0.6346312124089901\n"
          ]
        },
        {
          "output_type": "stream",
          "name": "stderr",
          "text": [
            "/usr/local/lib/python3.11/dist-packages/sklearn/utils/validation.py:2732: UserWarning: X has feature names, but GradientBoostingClassifier was fitted without feature names\n",
            "  warnings.warn(\n"
          ]
        }
      ]
    },
    {
      "cell_type": "code",
      "source": [
        "participant_ids = test_quantitative['participant_id']\n",
        "\n",
        "# Create a dictionary to hold the data\n",
        "data = {\n",
        "    'ADHD_Outcome': test_pred_adhd,\n",
        "    'Sex_F': test_pred_gender\n",
        "}\n",
        "\n",
        "# Create a Pandas DataFrame\n",
        "df = pd.DataFrame(data)\n",
        "\n",
        "# Print the first few rows to verify (optional)\n",
        "print(df.head(30))"
      ],
      "metadata": {
        "colab": {
          "base_uri": "https://localhost:8080/"
        },
        "id": "kpX5m2WXEB5j",
        "outputId": "c1840ceb-a03e-4dec-9228-f1e6f0d7fa79"
      },
      "execution_count": null,
      "outputs": [
        {
          "output_type": "stream",
          "name": "stdout",
          "text": [
            "    ADHD_Outcome  Sex_F\n",
            "0              1      0\n",
            "1              1      0\n",
            "2              1      0\n",
            "3              1      1\n",
            "4              1      0\n",
            "5              1      1\n",
            "6              1      0\n",
            "7              1      0\n",
            "8              1      0\n",
            "9              1      0\n",
            "10             1      0\n",
            "11             1      1\n",
            "12             1      0\n",
            "13             1      0\n",
            "14             1      1\n",
            "15             1      0\n",
            "16             1      0\n",
            "17             1      0\n",
            "18             1      0\n",
            "19             1      0\n",
            "20             1      0\n",
            "21             1      0\n",
            "22             1      0\n",
            "23             1      0\n",
            "24             1      0\n",
            "25             1      0\n",
            "26             1      1\n",
            "27             1      0\n",
            "28             1      0\n",
            "29             1      0\n"
          ]
        }
      ]
    },
    {
      "cell_type": "markdown",
      "source": [
        "On Kaggle test data to make prediction"
      ],
      "metadata": {
        "id": "YhV3X0QHAeet"
      }
    },
    {
      "cell_type": "code",
      "source": [
        "#ON TEST DATA\n",
        "#Quant ADHD and cat female\n",
        "test_categorical = pd.read_excel(\"/content/TEST_CATEGORICAL.xlsx\")\n",
        "test_quantitative = pd.read_excel(\"/content/TEST_QUANTITATIVE_METADATA.xlsx\")\n",
        "\n",
        "X_test_final_quant = test_quantitative.drop(['participant_id', 'MRI_Track_Age_at_Scan'], axis=1)\n",
        "X_test_final_quant = X_test_final_quant.apply(lambda col: col.fillna(col.mean()), axis=0)\n",
        "\n",
        "X_test_final_cat = test_categorical.drop(['participant_id'], axis=1)\n",
        "X_test_final_cat = X_test_final_cat.apply(lambda col: col.fillna(col.mode()[0]), axis=0)\n",
        "\n",
        "# Get base model predictions on test data\n",
        "final_pred_adhd = gbdt_quant_ADHD.predict(X_test_final_quant)\n",
        "\n",
        "final_pred_gender = gbdt_cat_female.predict(X_test_final_cat)\n"
      ],
      "metadata": {
        "colab": {
          "base_uri": "https://localhost:8080/"
        },
        "id": "Aj0mQF0o8s97",
        "outputId": "85c651eb-ac1e-4135-b001-16e8cc325929"
      },
      "execution_count": null,
      "outputs": [
        {
          "output_type": "stream",
          "name": "stderr",
          "text": [
            "/usr/local/lib/python3.11/dist-packages/sklearn/utils/validation.py:2732: UserWarning: X has feature names, but GradientBoostingClassifier was fitted without feature names\n",
            "  warnings.warn(\n"
          ]
        }
      ]
    },
    {
      "cell_type": "code",
      "source": [
        "participant_ids = test_quantitative['participant_id']\n",
        "\n",
        "# Create a dictionary to hold the data\n",
        "data = {\n",
        "    'participant_id': participant_ids,\n",
        "    'ADHD_Outcome': final_pred_adhd,\n",
        "    'Sex_F': final_pred_gender\n",
        "}\n",
        "\n",
        "# Create a Pandas DataFrame\n",
        "df = pd.DataFrame(data)\n",
        "\n",
        "# Save the DataFrame to a CSV file\n",
        "df.to_csv('pred_ensemble.csv', index=False)\n",
        "\n",
        "# Print the first few rows to verify (optional)\n",
        "print(df.head(30))"
      ],
      "metadata": {
        "colab": {
          "base_uri": "https://localhost:8080/"
        },
        "id": "JOKqEdp79_cA",
        "outputId": "14a26650-39a7-4e04-d081-6e38720ec37b"
      },
      "execution_count": null,
      "outputs": [
        {
          "output_type": "stream",
          "name": "stdout",
          "text": [
            "   participant_id  ADHD_Outcome  Sex_F\n",
            "0    Cfwaf5FX7jWK             1      1\n",
            "1    vhGrzmvA3Hjq             1      1\n",
            "2    ULliyEXjy4OV             1      0\n",
            "3    LZfeAb1xMtql             1      1\n",
            "4    EnFOUv0YK1RG             1      0\n",
            "5    3VbkvJ22j9Fu             1      0\n",
            "6    PRKZcnOgqcuk             1      1\n",
            "7    DuVUuyMZi5qV             1      0\n",
            "8    uM4etVLZrgMg             1      0\n",
            "9    BpzyExrET5ta             1      1\n",
            "10   sAqeb6F4lz97             1      0\n",
            "11   u7XOOvHirIx7             1      0\n",
            "12   aEPm4bEQvbYi             1      0\n",
            "13   Fj9A5PWsIWKT             1      0\n",
            "14   19mb5yGJigtw             1      0\n",
            "15   v1nMpCoLGU0V             1      0\n",
            "16   hRPuz4zpsEbw             1      1\n",
            "17   mT8A6xa1O4Ro             1      0\n",
            "18   4QBTjDoVpVt6             1      1\n",
            "19   0X2H4LroxZcw             1      0\n",
            "20   9CH7UxXuznUa             1      0\n",
            "21   nU73zzjTnr4A             1      0\n",
            "22   uEZHGukIUQ0k             1      0\n",
            "23   jCzQwkpfgZyQ             1      0\n",
            "24   Ljvrs76QJuI5             1      1\n",
            "25   IbF3zW0Wbx4Q             1      0\n",
            "26   UHnGiDNksa0x             1      0\n",
            "27   yYjiJsx8PM48             1      0\n",
            "28   1j28gfEoCQ3o             1      0\n",
            "29   dC5XvD5A3tqo             1      0\n"
          ]
        }
      ]
    },
    {
      "cell_type": "code",
      "source": [
        "print(df.shape)\n",
        "print(df['ADHD_Outcome'].sum())\n",
        "print(df['Sex_F'].sum())"
      ],
      "metadata": {
        "colab": {
          "base_uri": "https://localhost:8080/"
        },
        "id": "Mx-EwscOFeC4",
        "outputId": "f34baf7c-b98b-4fda-84e5-5543aeab7f67"
      },
      "execution_count": null,
      "outputs": [
        {
          "output_type": "stream",
          "name": "stdout",
          "text": [
            "(304, 3)\n",
            "304\n",
            "54\n"
          ]
        }
      ]
    }
  ]
}